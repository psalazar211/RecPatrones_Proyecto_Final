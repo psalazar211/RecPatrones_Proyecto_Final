{
 "cells": [
  {
   "cell_type": "markdown",
   "metadata": {},
   "source": [
    "# Proyecto Final del curso de Reconocimiento de Patrones\n",
    "### Maestría en Electrónica del TEC\n",
    "### Autor: Pamela Salazar Espinoza\n",
    "\n",
    "Este cuaderno corresponde al proyecto del curso de reconocimiento de patrones del TEC. El reconocimiento de voz o reconocimiento del habla es una rama de la inteligencia artificial cuya finalidad es posibilitar la comunicación entre humanos y sistemas informáticos. Un sistema de reconocimiento de voz tiene la capacidad de detectar y entender las palabras que un ser humano emite de forma natural. En un esfuerzo por entrenar estos sistemas se han creado diferentes bases de datos en distintos idiomas, con diferentes de acentos por ejemplo la enconteada en: \n",
    "\n",
    "https://commonvoice.mozilla.org/es/datasets\n",
    "\n",
    "El objetivo de este proyecto es entrenar una red neuronal de reconocimiento de voz que clasifique la comida que el usuario desea del menu de una soda. Las clases son:\n",
    "\n",
    "| Clase | Clase ID |\n",
    "|----------|----------|\n",
    "| Pinto     | 0   | \n",
    "| Casado    | 1  | \n",
    "| Empanada  de Carne | 3 |\n",
    "| Empanada  de Pollo | 4  |\n",
    "| Empanada  de Frijol | 5  |\n",
    "| Arroz con pollo | 6  |\n",
    "| Chifrijo | 7 |\n",
    "\n",
    "En el proceso de reconocimiento de voz afectan difirentes caracterisitcas como el idioma, acento y tono de voz. Para recolectar los datos  de entremiento y prueba se grabo con un celular. Los audios fueron grabados por 3 personas de difrente edad, lugar de procedencia y genero:\n",
    "\n",
    "| Ganero | Edad |  Provincia | Muestras por lase |\n",
    "|----------|----------|----------|----------|\n",
    "| Masculino    | 37   | San Jose   | 300 |\n",
    "| Femenino   | 59  | Guanacaste  | 300 |\n",
    "| Fmenino   | 30 |  Alajuela | 300 |\n",
    "\n",
    "\n",
    "\n",
    "\n"
   ]
  },
  {
   "cell_type": "code",
   "execution_count": 1,
   "metadata": {},
   "outputs": [
    {
     "name": "stderr",
     "output_type": "stream",
     "text": [
      "C:\\Users\\psalazar\\AppData\\Roaming\\Python\\Python39\\site-packages\\scipy\\__init__.py:138: UserWarning: A NumPy version >=1.16.5 and <1.23.0 is required for this version of SciPy (detected version 1.23.1)\n",
      "  warnings.warn(f\"A NumPy version >={np_minversion} and <{np_maxversion} is required for this version of \"\n"
     ]
    }
   ],
   "source": [
    "##Importar librerias necesarias\n",
    "\n",
    "import os\n",
    "import pandas as pd\n",
    "import numpy as np\n",
    "import random\n",
    "import pickle\n",
    "import seaborn as sns\n",
    "import librosa\n",
    "import pickle\n",
    "import matplotlib.pyplot as plt\n",
    "import librosa.display\n",
    "from sklearn import metrics as metrics_skl\n",
    "from tensorflow.keras import datasets, layers, models\n",
    "from keras.models import Sequential\n",
    "from keras.layers import Dense, Dropout, Activation, Flatten\n",
    "from keras.layers import Convolution2D, Conv2D, MaxPool2D, GlobalAveragePooling2D\n",
    "from keras.optimizers import Adam\n",
    "from keras import utils as np_utils\n",
    "from keras.losses import CategoricalCrossentropy\n",
    "from tensorflow.keras  import metrics \n",
    "from sklearn import model_selection"
   ]
  },
  {
   "cell_type": "markdown",
   "metadata": {},
   "source": [
    "### 1. Limpieza de datos"
   ]
  },
  {
   "cell_type": "markdown",
   "metadata": {},
   "source": [
    "1. Crear una tabla de los archivos con sus respectivas carpetas"
   ]
  },
  {
   "cell_type": "code",
   "execution_count": 2,
   "metadata": {},
   "outputs": [
    {
     "data": {
      "text/html": [
       "<div>\n",
       "<style scoped>\n",
       "    .dataframe tbody tr th:only-of-type {\n",
       "        vertical-align: middle;\n",
       "    }\n",
       "\n",
       "    .dataframe tbody tr th {\n",
       "        vertical-align: top;\n",
       "    }\n",
       "\n",
       "    .dataframe thead th {\n",
       "        text-align: right;\n",
       "    }\n",
       "</style>\n",
       "<table border=\"1\" class=\"dataframe\">\n",
       "  <thead>\n",
       "    <tr style=\"text-align: right;\">\n",
       "      <th></th>\n",
       "      <th>Carpeta</th>\n",
       "      <th>Archivos</th>\n",
       "    </tr>\n",
       "  </thead>\n",
       "  <tbody>\n",
       "    <tr>\n",
       "      <th>0</th>\n",
       "      <td>ArrozPollo</td>\n",
       "      <td>20240413-202337.wav</td>\n",
       "    </tr>\n",
       "    <tr>\n",
       "      <th>1</th>\n",
       "      <td>ArrozPollo</td>\n",
       "      <td>20240413-202545.wav</td>\n",
       "    </tr>\n",
       "    <tr>\n",
       "      <th>2</th>\n",
       "      <td>ArrozPollo</td>\n",
       "      <td>20240413-202551.wav</td>\n",
       "    </tr>\n",
       "    <tr>\n",
       "      <th>3</th>\n",
       "      <td>ArrozPollo</td>\n",
       "      <td>20240413-202557.wav</td>\n",
       "    </tr>\n",
       "    <tr>\n",
       "      <th>4</th>\n",
       "      <td>ArrozPollo</td>\n",
       "      <td>20240413-202604.wav</td>\n",
       "    </tr>\n",
       "    <tr>\n",
       "      <th>...</th>\n",
       "      <td>...</td>\n",
       "      <td>...</td>\n",
       "    </tr>\n",
       "    <tr>\n",
       "      <th>6298</th>\n",
       "      <td>Pinto</td>\n",
       "      <td>Zule_pinto296.wav</td>\n",
       "    </tr>\n",
       "    <tr>\n",
       "      <th>6299</th>\n",
       "      <td>Pinto</td>\n",
       "      <td>Zule_pinto297.wav</td>\n",
       "    </tr>\n",
       "    <tr>\n",
       "      <th>6300</th>\n",
       "      <td>Pinto</td>\n",
       "      <td>Zule_pinto298.wav</td>\n",
       "    </tr>\n",
       "    <tr>\n",
       "      <th>6301</th>\n",
       "      <td>Pinto</td>\n",
       "      <td>Zule_pinto299.wav</td>\n",
       "    </tr>\n",
       "    <tr>\n",
       "      <th>6302</th>\n",
       "      <td>Pinto</td>\n",
       "      <td>Zule_pinto300.wav</td>\n",
       "    </tr>\n",
       "  </tbody>\n",
       "</table>\n",
       "<p>6303 rows × 2 columns</p>\n",
       "</div>"
      ],
      "text/plain": [
       "         Carpeta             Archivos\n",
       "0     ArrozPollo  20240413-202337.wav\n",
       "1     ArrozPollo  20240413-202545.wav\n",
       "2     ArrozPollo  20240413-202551.wav\n",
       "3     ArrozPollo  20240413-202557.wav\n",
       "4     ArrozPollo  20240413-202604.wav\n",
       "...          ...                  ...\n",
       "6298       Pinto    Zule_pinto296.wav\n",
       "6299       Pinto    Zule_pinto297.wav\n",
       "6300       Pinto    Zule_pinto298.wav\n",
       "6301       Pinto    Zule_pinto299.wav\n",
       "6302       Pinto    Zule_pinto300.wav\n",
       "\n",
       "[6303 rows x 2 columns]"
      ]
     },
     "execution_count": 2,
     "metadata": {},
     "output_type": "execute_result"
    }
   ],
   "source": [
    "contenido = os.listdir('.\\dataset')\n",
    "archvos_list = []\n",
    "carpeta_list = []\n",
    "carpeta_list1 = []\n",
    "for carpeta in contenido:\n",
    "    archivos = os.listdir('.\\dataset\\\\' + carpeta)\n",
    "    carpeta_list1.append(carpeta)\n",
    "    for archivo in archivos:\n",
    "        archvos_list.append(archivo)\n",
    "        carpeta_list.append(carpeta)\n",
    "\n",
    "df = pd.DataFrame()\n",
    "df['Carpeta']  = carpeta_list\n",
    "df['Archivos'] = archvos_list \n",
    "df"
   ]
  },
  {
   "cell_type": "markdown",
   "metadata": {},
   "source": [
    "2. Clasificar las muestras."
   ]
  },
  {
   "cell_type": "code",
   "execution_count": 3,
   "metadata": {},
   "outputs": [
    {
     "data": {
      "text/html": [
       "<div>\n",
       "<style scoped>\n",
       "    .dataframe tbody tr th:only-of-type {\n",
       "        vertical-align: middle;\n",
       "    }\n",
       "\n",
       "    .dataframe tbody tr th {\n",
       "        vertical-align: top;\n",
       "    }\n",
       "\n",
       "    .dataframe thead th {\n",
       "        text-align: right;\n",
       "    }\n",
       "</style>\n",
       "<table border=\"1\" class=\"dataframe\">\n",
       "  <thead>\n",
       "    <tr style=\"text-align: right;\">\n",
       "      <th></th>\n",
       "      <th>Carpeta</th>\n",
       "      <th>Archivos</th>\n",
       "      <th>Clase</th>\n",
       "      <th>Clase ID</th>\n",
       "    </tr>\n",
       "  </thead>\n",
       "  <tbody>\n",
       "    <tr>\n",
       "      <th>0</th>\n",
       "      <td>ArrozPollo</td>\n",
       "      <td>20240413-202337.wav</td>\n",
       "      <td>Arroz con pollo</td>\n",
       "      <td>5</td>\n",
       "    </tr>\n",
       "    <tr>\n",
       "      <th>1</th>\n",
       "      <td>ArrozPollo</td>\n",
       "      <td>20240413-202545.wav</td>\n",
       "      <td>Arroz con pollo</td>\n",
       "      <td>5</td>\n",
       "    </tr>\n",
       "    <tr>\n",
       "      <th>2</th>\n",
       "      <td>ArrozPollo</td>\n",
       "      <td>20240413-202551.wav</td>\n",
       "      <td>Arroz con pollo</td>\n",
       "      <td>5</td>\n",
       "    </tr>\n",
       "    <tr>\n",
       "      <th>3</th>\n",
       "      <td>ArrozPollo</td>\n",
       "      <td>20240413-202557.wav</td>\n",
       "      <td>Arroz con pollo</td>\n",
       "      <td>5</td>\n",
       "    </tr>\n",
       "    <tr>\n",
       "      <th>4</th>\n",
       "      <td>ArrozPollo</td>\n",
       "      <td>20240413-202604.wav</td>\n",
       "      <td>Arroz con pollo</td>\n",
       "      <td>5</td>\n",
       "    </tr>\n",
       "    <tr>\n",
       "      <th>...</th>\n",
       "      <td>...</td>\n",
       "      <td>...</td>\n",
       "      <td>...</td>\n",
       "      <td>...</td>\n",
       "    </tr>\n",
       "    <tr>\n",
       "      <th>6298</th>\n",
       "      <td>Pinto</td>\n",
       "      <td>Zule_pinto296.wav</td>\n",
       "      <td>Pinto</td>\n",
       "      <td>0</td>\n",
       "    </tr>\n",
       "    <tr>\n",
       "      <th>6299</th>\n",
       "      <td>Pinto</td>\n",
       "      <td>Zule_pinto297.wav</td>\n",
       "      <td>Pinto</td>\n",
       "      <td>0</td>\n",
       "    </tr>\n",
       "    <tr>\n",
       "      <th>6300</th>\n",
       "      <td>Pinto</td>\n",
       "      <td>Zule_pinto298.wav</td>\n",
       "      <td>Pinto</td>\n",
       "      <td>0</td>\n",
       "    </tr>\n",
       "    <tr>\n",
       "      <th>6301</th>\n",
       "      <td>Pinto</td>\n",
       "      <td>Zule_pinto299.wav</td>\n",
       "      <td>Pinto</td>\n",
       "      <td>0</td>\n",
       "    </tr>\n",
       "    <tr>\n",
       "      <th>6302</th>\n",
       "      <td>Pinto</td>\n",
       "      <td>Zule_pinto300.wav</td>\n",
       "      <td>Pinto</td>\n",
       "      <td>0</td>\n",
       "    </tr>\n",
       "  </tbody>\n",
       "</table>\n",
       "<p>6303 rows × 4 columns</p>\n",
       "</div>"
      ],
      "text/plain": [
       "         Carpeta             Archivos            Clase  Clase ID\n",
       "0     ArrozPollo  20240413-202337.wav  Arroz con pollo         5\n",
       "1     ArrozPollo  20240413-202545.wav  Arroz con pollo         5\n",
       "2     ArrozPollo  20240413-202551.wav  Arroz con pollo         5\n",
       "3     ArrozPollo  20240413-202557.wav  Arroz con pollo         5\n",
       "4     ArrozPollo  20240413-202604.wav  Arroz con pollo         5\n",
       "...          ...                  ...              ...       ...\n",
       "6298       Pinto    Zule_pinto296.wav            Pinto         0\n",
       "6299       Pinto    Zule_pinto297.wav            Pinto         0\n",
       "6300       Pinto    Zule_pinto298.wav            Pinto         0\n",
       "6301       Pinto    Zule_pinto299.wav            Pinto         0\n",
       "6302       Pinto    Zule_pinto300.wav            Pinto         0\n",
       "\n",
       "[6303 rows x 4 columns]"
      ]
     },
     "execution_count": 3,
     "metadata": {},
     "output_type": "execute_result"
    }
   ],
   "source": [
    "clases_list = []\n",
    "clasesID_list = []\n",
    "for carpeta in df['Carpeta']:\n",
    "    if carpeta == 'Pinto':\n",
    "        clase = 'Pinto'\n",
    "        id = 0\n",
    "    elif carpeta == 'Casado':\n",
    "        clase = 'Casado'\n",
    "        id = 1\n",
    "    elif carpeta == 'EmpanadaCarne':\n",
    "        clase = 'Empanada de Carne'\n",
    "        id = 2\n",
    "    elif carpeta == 'EmpanadaPollo':\n",
    "        clase = 'Empanada de Pollo'\n",
    "        id = 3\n",
    "    elif carpeta == 'EmpanadaFrijol':\n",
    "        clase = 'Empanada de Frijol'\n",
    "        id = 4\n",
    "    elif carpeta == 'ArrozPollo':\n",
    "        clase = 'Arroz con pollo'\n",
    "        id = 5\n",
    "    else: \n",
    "        clase = 'Chifrijo'\n",
    "        id = 6\n",
    "    clases_list.append(clase)\n",
    "    clasesID_list.append(id)\n",
    "df['Clase'] = clases_list\n",
    "df['Clase ID'] = clasesID_list\n",
    "\n",
    "df.drop(df[(df['Clase'] == 'desconocido')].index, inplace=True)\n",
    "df"
   ]
  },
  {
   "cell_type": "markdown",
   "metadata": {},
   "source": [
    "3. Dividir datos de entrenamineto y validacion."
   ]
  },
  {
   "cell_type": "code",
   "execution_count": 4,
   "metadata": {},
   "outputs": [],
   "source": [
    "from sklearn.model_selection import train_test_split"
   ]
  },
  {
   "cell_type": "markdown",
   "metadata": {},
   "source": [
    "Usar el 20% de os datos de clase \"pinto\" para validacion"
   ]
  },
  {
   "cell_type": "code",
   "execution_count": 5,
   "metadata": {},
   "outputs": [],
   "source": [
    "df1 = df[df['Clase']=='Pinto'].reset_index()\n",
    "df1 = df1.drop(['index'],axis=1)\n",
    "train_pinto, test_pinto = train_test_split(df1, test_size = 0.20, shuffle = False)"
   ]
  },
  {
   "cell_type": "markdown",
   "metadata": {},
   "source": [
    "Usar el 20% de os datos de clase \"casado\" para validacion"
   ]
  },
  {
   "cell_type": "code",
   "execution_count": 7,
   "metadata": {},
   "outputs": [],
   "source": [
    "df1 = df[df['Clase']=='Casado'].reset_index()\n",
    "df1 = df1.drop(['index'],axis=1)\n",
    "train_casado, test_casado = train_test_split(df1, test_size = 0.20, shuffle = False)"
   ]
  },
  {
   "cell_type": "markdown",
   "metadata": {},
   "source": [
    "Usar el 20% de los datos de clase \"empanada de carne\" para validacion"
   ]
  },
  {
   "cell_type": "code",
   "execution_count": 9,
   "metadata": {},
   "outputs": [],
   "source": [
    "df1 = df[df['Clase']=='Empanada de Carne'].reset_index()\n",
    "df1 = df1.drop(['index'],axis=1)\n",
    "train_carne, test_carne = train_test_split(df1, test_size = 0.20, shuffle = False)"
   ]
  },
  {
   "cell_type": "markdown",
   "metadata": {},
   "source": [
    "Usar el 20% de los datos de clase \"empanada de pollo\" para validacion"
   ]
  },
  {
   "cell_type": "code",
   "execution_count": 10,
   "metadata": {},
   "outputs": [],
   "source": [
    "df1 = df[df['Clase']=='Empanada de Pollo'].reset_index()\n",
    "df1 = df1.drop(['index'],axis=1)\n",
    "train_pollo, test_pollo = train_test_split(df1, test_size = 0.20, shuffle = False)"
   ]
  },
  {
   "cell_type": "markdown",
   "metadata": {},
   "source": [
    "Usar el 20% de los datos de clase \"empanada de frijol\" para validacion"
   ]
  },
  {
   "cell_type": "code",
   "execution_count": 11,
   "metadata": {},
   "outputs": [],
   "source": [
    "df1 = df[df['Clase']=='Empanada de Frijol'].reset_index()\n",
    "df1 = df1.drop(['index'],axis=1)\n",
    "train_frijol, test_frijol = train_test_split(df1, test_size = 0.20, shuffle = False)"
   ]
  },
  {
   "cell_type": "markdown",
   "metadata": {},
   "source": [
    "Usar el 20% de los datos de clase \"arroz con pollo\" para validacion"
   ]
  },
  {
   "cell_type": "code",
   "execution_count": 12,
   "metadata": {},
   "outputs": [],
   "source": [
    "df1 = df[df['Clase']=='Arroz con pollo'].reset_index()\n",
    "df1 = df1.drop(['index'],axis=1)\n",
    "train_apollo, test_apollo = train_test_split(df1, test_size = 0.20, shuffle = False)"
   ]
  },
  {
   "cell_type": "markdown",
   "metadata": {},
   "source": [
    "Usar el 20% de los datos de clase \"chifrijo\" para validacion"
   ]
  },
  {
   "cell_type": "code",
   "execution_count": 13,
   "metadata": {},
   "outputs": [],
   "source": [
    "df1 = df[df['Clase']=='Chifrijo'].reset_index()\n",
    "df1 = df1.drop(['index'],axis=1)\n",
    "train_chifrijo, test_chifrijo = train_test_split(df1, test_size = 0.20, shuffle = False)"
   ]
  },
  {
   "cell_type": "markdown",
   "metadata": {},
   "source": [
    "Crear dataset de entrenamiento"
   ]
  },
  {
   "cell_type": "code",
   "execution_count": 15,
   "metadata": {},
   "outputs": [],
   "source": [
    "train = pd.concat([train_pinto,train_casado, train_carne, train_pollo,train_frijol,\n",
    "                   train_apollo,train_chifrijo], axis=0)\n",
    "train['Group'] = 'Train'"
   ]
  },
  {
   "cell_type": "markdown",
   "metadata": {},
   "source": [
    "Crear dataset de prueba"
   ]
  },
  {
   "cell_type": "code",
   "execution_count": 16,
   "metadata": {},
   "outputs": [],
   "source": [
    "test = pd.concat([test_pinto,test_casado, test_carne, test_pollo,test_frijol,\n",
    "                   test_apollo,test_chifrijo], axis=0)\n",
    "test['Group'] = 'Test'"
   ]
  },
  {
   "cell_type": "markdown",
   "metadata": {},
   "source": [
    "Visualizar datos entrenamiento y datos de prueba"
   ]
  },
  {
   "cell_type": "code",
   "execution_count": 17,
   "metadata": {},
   "outputs": [
    {
     "data": {
      "text/html": [
       "<div>\n",
       "<style scoped>\n",
       "    .dataframe tbody tr th:only-of-type {\n",
       "        vertical-align: middle;\n",
       "    }\n",
       "\n",
       "    .dataframe tbody tr th {\n",
       "        vertical-align: top;\n",
       "    }\n",
       "\n",
       "    .dataframe thead th {\n",
       "        text-align: right;\n",
       "    }\n",
       "</style>\n",
       "<table border=\"1\" class=\"dataframe\">\n",
       "  <thead>\n",
       "    <tr style=\"text-align: right;\">\n",
       "      <th></th>\n",
       "      <th>Carpeta</th>\n",
       "      <th>Archivos</th>\n",
       "      <th>Clase</th>\n",
       "      <th>Clase ID</th>\n",
       "      <th>Group</th>\n",
       "    </tr>\n",
       "  </thead>\n",
       "  <tbody>\n",
       "    <tr>\n",
       "      <th>0</th>\n",
       "      <td>Pinto</td>\n",
       "      <td>20240412_210743.wav</td>\n",
       "      <td>Pinto</td>\n",
       "      <td>0</td>\n",
       "      <td>Train</td>\n",
       "    </tr>\n",
       "    <tr>\n",
       "      <th>1</th>\n",
       "      <td>Pinto</td>\n",
       "      <td>20240412_210750.wav</td>\n",
       "      <td>Pinto</td>\n",
       "      <td>0</td>\n",
       "      <td>Train</td>\n",
       "    </tr>\n",
       "    <tr>\n",
       "      <th>2</th>\n",
       "      <td>Pinto</td>\n",
       "      <td>20240412_210755.wav</td>\n",
       "      <td>Pinto</td>\n",
       "      <td>0</td>\n",
       "      <td>Train</td>\n",
       "    </tr>\n",
       "    <tr>\n",
       "      <th>3</th>\n",
       "      <td>Pinto</td>\n",
       "      <td>20240412_210800.wav</td>\n",
       "      <td>Pinto</td>\n",
       "      <td>0</td>\n",
       "      <td>Train</td>\n",
       "    </tr>\n",
       "    <tr>\n",
       "      <th>4</th>\n",
       "      <td>Pinto</td>\n",
       "      <td>20240412_210804.wav</td>\n",
       "      <td>Pinto</td>\n",
       "      <td>0</td>\n",
       "      <td>Train</td>\n",
       "    </tr>\n",
       "    <tr>\n",
       "      <th>...</th>\n",
       "      <td>...</td>\n",
       "      <td>...</td>\n",
       "      <td>...</td>\n",
       "      <td>...</td>\n",
       "      <td>...</td>\n",
       "    </tr>\n",
       "    <tr>\n",
       "      <th>6298</th>\n",
       "      <td>Chifrijo</td>\n",
       "      <td>Pame_chifrijo_1496.wav</td>\n",
       "      <td>Chifrijo</td>\n",
       "      <td>6</td>\n",
       "      <td>Test</td>\n",
       "    </tr>\n",
       "    <tr>\n",
       "      <th>6299</th>\n",
       "      <td>Chifrijo</td>\n",
       "      <td>Pame_chifrijo_1497.wav</td>\n",
       "      <td>Chifrijo</td>\n",
       "      <td>6</td>\n",
       "      <td>Test</td>\n",
       "    </tr>\n",
       "    <tr>\n",
       "      <th>6300</th>\n",
       "      <td>Chifrijo</td>\n",
       "      <td>Pame_chifrijo_1498.wav</td>\n",
       "      <td>Chifrijo</td>\n",
       "      <td>6</td>\n",
       "      <td>Test</td>\n",
       "    </tr>\n",
       "    <tr>\n",
       "      <th>6301</th>\n",
       "      <td>Chifrijo</td>\n",
       "      <td>Pame_chifrijo_1499.wav</td>\n",
       "      <td>Chifrijo</td>\n",
       "      <td>6</td>\n",
       "      <td>Test</td>\n",
       "    </tr>\n",
       "    <tr>\n",
       "      <th>6302</th>\n",
       "      <td>Chifrijo</td>\n",
       "      <td>Pame_chifrijo_1500.wav</td>\n",
       "      <td>Chifrijo</td>\n",
       "      <td>6</td>\n",
       "      <td>Test</td>\n",
       "    </tr>\n",
       "  </tbody>\n",
       "</table>\n",
       "<p>6303 rows × 5 columns</p>\n",
       "</div>"
      ],
      "text/plain": [
       "       Carpeta                Archivos     Clase  Clase ID  Group\n",
       "0        Pinto     20240412_210743.wav     Pinto         0  Train\n",
       "1        Pinto     20240412_210750.wav     Pinto         0  Train\n",
       "2        Pinto     20240412_210755.wav     Pinto         0  Train\n",
       "3        Pinto     20240412_210800.wav     Pinto         0  Train\n",
       "4        Pinto     20240412_210804.wav     Pinto         0  Train\n",
       "...        ...                     ...       ...       ...    ...\n",
       "6298  Chifrijo  Pame_chifrijo_1496.wav  Chifrijo         6   Test\n",
       "6299  Chifrijo  Pame_chifrijo_1497.wav  Chifrijo         6   Test\n",
       "6300  Chifrijo  Pame_chifrijo_1498.wav  Chifrijo         6   Test\n",
       "6301  Chifrijo  Pame_chifrijo_1499.wav  Chifrijo         6   Test\n",
       "6302  Chifrijo  Pame_chifrijo_1500.wav  Chifrijo         6   Test\n",
       "\n",
       "[6303 rows x 5 columns]"
      ]
     },
     "execution_count": 17,
     "metadata": {},
     "output_type": "execute_result"
    }
   ],
   "source": [
    "df = pd.concat([train,test], axis=0).reset_index()\n",
    "df = df.drop(['index'],axis=1)\n",
    "df"
   ]
  },
  {
   "cell_type": "code",
   "execution_count": 18,
   "metadata": {},
   "outputs": [
    {
     "data": {
      "text/plain": [
       "<seaborn.axisgrid.FacetGrid at 0x1f4fa634250>"
      ]
     },
     "execution_count": 18,
     "metadata": {},
     "output_type": "execute_result"
    },
    {
     "data": {
      "image/png": "[encoded data removed]",
      "text/plain": [
       "<Figure size 420x360 with 1 Axes>"
      ]
     },
     "metadata": {
      "needs_background": "light"
     },
     "output_type": "display_data"
    }
   ],
   "source": [
    "sns.catplot(data=df,kind='count',x='Clase ID',hue='Group')"
   ]
  },
  {
   "cell_type": "markdown",
   "metadata": {},
   "source": [
    "3. Crear espectogramas\n",
    "Nota, para crear los espectogramas hay que cambiar el formato del archivo a mp3."
   ]
  },
  {
   "cell_type": "code",
   "execution_count": 19,
   "metadata": {},
   "outputs": [],
   "source": [
    "def spectogram (audio_file):\n",
    "    fs = 16000\n",
    "    y, sr = librosa.load(audio_file, sr = 16000)\n",
    "    if len(y) < fs:\n",
    "       y = np.concatenate((y,np.zeros((fs-len(y)),dtype='int')))\n",
    "    elif len(y) > fs:\n",
    "        y = y[:fs]\n",
    "    S = librosa.feature.melspectrogram(y=y, sr=fs, n_mels=40,n_fft =  25*fs//1000, win_length = 25*fs//1000, hop_length = 10*fs//1000, center=True,\n",
    "        power=2)\n",
    "    S_dB = librosa.power_to_db(S, ref=np.max)\n",
    "    return S_dB"
   ]
  },
  {
   "cell_type": "markdown",
   "metadata": {},
   "source": [
    "En la siguiente celda se guarda el espectograma de cada archivo de audio en un archivo dentro de la carpeta 'espectogramas'. "
   ]
  },
  {
   "cell_type": "code",
   "execution_count": 20,
   "metadata": {},
   "outputs": [],
   "source": [
    "#for i in range(len(df['Archivos'])):\n",
    "#    file = df['Archivos'][i]\n",
    "#    carpeta = df['Carpeta'][i]\n",
    "#    path_audio = 'dataset\\\\' + carpeta +  '\\\\' + file\n",
    "#    name, extension = file.split('.')\n",
    "#    file_name = carpeta +  '_' +  name + '.pickle'\n",
    "#    S_dB = spectogram (path_audio)   \n",
    "#    path = 'espectogramas/'+ file_name\n",
    "#    with open(path, \"wb\") as f:\n",
    "#        pickle.dump(S_dB, f)"
   ]
  },
  {
   "cell_type": "code",
   "execution_count": 21,
   "metadata": {},
   "outputs": [
    {
     "data": {
      "text/html": [
       "<div>\n",
       "<style scoped>\n",
       "    .dataframe tbody tr th:only-of-type {\n",
       "        vertical-align: middle;\n",
       "    }\n",
       "\n",
       "    .dataframe tbody tr th {\n",
       "        vertical-align: top;\n",
       "    }\n",
       "\n",
       "    .dataframe thead th {\n",
       "        text-align: right;\n",
       "    }\n",
       "</style>\n",
       "<table border=\"1\" class=\"dataframe\">\n",
       "  <thead>\n",
       "    <tr style=\"text-align: right;\">\n",
       "      <th></th>\n",
       "      <th>Carpeta</th>\n",
       "      <th>Archivos</th>\n",
       "      <th>Clase</th>\n",
       "      <th>Clase ID</th>\n",
       "      <th>Group</th>\n",
       "      <th>Path de espectograma</th>\n",
       "    </tr>\n",
       "  </thead>\n",
       "  <tbody>\n",
       "    <tr>\n",
       "      <th>0</th>\n",
       "      <td>Pinto</td>\n",
       "      <td>20240412_210743.wav</td>\n",
       "      <td>Pinto</td>\n",
       "      <td>0</td>\n",
       "      <td>Train</td>\n",
       "      <td>Pinto_20240412_210743.pickle</td>\n",
       "    </tr>\n",
       "    <tr>\n",
       "      <th>1</th>\n",
       "      <td>Pinto</td>\n",
       "      <td>20240412_210750.wav</td>\n",
       "      <td>Pinto</td>\n",
       "      <td>0</td>\n",
       "      <td>Train</td>\n",
       "      <td>Pinto_20240412_210750.pickle</td>\n",
       "    </tr>\n",
       "    <tr>\n",
       "      <th>2</th>\n",
       "      <td>Pinto</td>\n",
       "      <td>20240412_210755.wav</td>\n",
       "      <td>Pinto</td>\n",
       "      <td>0</td>\n",
       "      <td>Train</td>\n",
       "      <td>Pinto_20240412_210755.pickle</td>\n",
       "    </tr>\n",
       "    <tr>\n",
       "      <th>3</th>\n",
       "      <td>Pinto</td>\n",
       "      <td>20240412_210800.wav</td>\n",
       "      <td>Pinto</td>\n",
       "      <td>0</td>\n",
       "      <td>Train</td>\n",
       "      <td>Pinto_20240412_210800.pickle</td>\n",
       "    </tr>\n",
       "    <tr>\n",
       "      <th>4</th>\n",
       "      <td>Pinto</td>\n",
       "      <td>20240412_210804.wav</td>\n",
       "      <td>Pinto</td>\n",
       "      <td>0</td>\n",
       "      <td>Train</td>\n",
       "      <td>Pinto_20240412_210804.pickle</td>\n",
       "    </tr>\n",
       "    <tr>\n",
       "      <th>...</th>\n",
       "      <td>...</td>\n",
       "      <td>...</td>\n",
       "      <td>...</td>\n",
       "      <td>...</td>\n",
       "      <td>...</td>\n",
       "      <td>...</td>\n",
       "    </tr>\n",
       "    <tr>\n",
       "      <th>6298</th>\n",
       "      <td>Chifrijo</td>\n",
       "      <td>Pame_chifrijo_1496.wav</td>\n",
       "      <td>Chifrijo</td>\n",
       "      <td>6</td>\n",
       "      <td>Test</td>\n",
       "      <td>Chifrijo_Pame_chifrijo_1496.pickle</td>\n",
       "    </tr>\n",
       "    <tr>\n",
       "      <th>6299</th>\n",
       "      <td>Chifrijo</td>\n",
       "      <td>Pame_chifrijo_1497.wav</td>\n",
       "      <td>Chifrijo</td>\n",
       "      <td>6</td>\n",
       "      <td>Test</td>\n",
       "      <td>Chifrijo_Pame_chifrijo_1497.pickle</td>\n",
       "    </tr>\n",
       "    <tr>\n",
       "      <th>6300</th>\n",
       "      <td>Chifrijo</td>\n",
       "      <td>Pame_chifrijo_1498.wav</td>\n",
       "      <td>Chifrijo</td>\n",
       "      <td>6</td>\n",
       "      <td>Test</td>\n",
       "      <td>Chifrijo_Pame_chifrijo_1498.pickle</td>\n",
       "    </tr>\n",
       "    <tr>\n",
       "      <th>6301</th>\n",
       "      <td>Chifrijo</td>\n",
       "      <td>Pame_chifrijo_1499.wav</td>\n",
       "      <td>Chifrijo</td>\n",
       "      <td>6</td>\n",
       "      <td>Test</td>\n",
       "      <td>Chifrijo_Pame_chifrijo_1499.pickle</td>\n",
       "    </tr>\n",
       "    <tr>\n",
       "      <th>6302</th>\n",
       "      <td>Chifrijo</td>\n",
       "      <td>Pame_chifrijo_1500.wav</td>\n",
       "      <td>Chifrijo</td>\n",
       "      <td>6</td>\n",
       "      <td>Test</td>\n",
       "      <td>Chifrijo_Pame_chifrijo_1500.pickle</td>\n",
       "    </tr>\n",
       "  </tbody>\n",
       "</table>\n",
       "<p>6303 rows × 6 columns</p>\n",
       "</div>"
      ],
      "text/plain": [
       "       Carpeta                Archivos     Clase  Clase ID  Group  \\\n",
       "0        Pinto     20240412_210743.wav     Pinto         0  Train   \n",
       "1        Pinto     20240412_210750.wav     Pinto         0  Train   \n",
       "2        Pinto     20240412_210755.wav     Pinto         0  Train   \n",
       "3        Pinto     20240412_210800.wav     Pinto         0  Train   \n",
       "4        Pinto     20240412_210804.wav     Pinto         0  Train   \n",
       "...        ...                     ...       ...       ...    ...   \n",
       "6298  Chifrijo  Pame_chifrijo_1496.wav  Chifrijo         6   Test   \n",
       "6299  Chifrijo  Pame_chifrijo_1497.wav  Chifrijo         6   Test   \n",
       "6300  Chifrijo  Pame_chifrijo_1498.wav  Chifrijo         6   Test   \n",
       "6301  Chifrijo  Pame_chifrijo_1499.wav  Chifrijo         6   Test   \n",
       "6302  Chifrijo  Pame_chifrijo_1500.wav  Chifrijo         6   Test   \n",
       "\n",
       "                    Path de espectograma  \n",
       "0           Pinto_20240412_210743.pickle  \n",
       "1           Pinto_20240412_210750.pickle  \n",
       "2           Pinto_20240412_210755.pickle  \n",
       "3           Pinto_20240412_210800.pickle  \n",
       "4           Pinto_20240412_210804.pickle  \n",
       "...                                  ...  \n",
       "6298  Chifrijo_Pame_chifrijo_1496.pickle  \n",
       "6299  Chifrijo_Pame_chifrijo_1497.pickle  \n",
       "6300  Chifrijo_Pame_chifrijo_1498.pickle  \n",
       "6301  Chifrijo_Pame_chifrijo_1499.pickle  \n",
       "6302  Chifrijo_Pame_chifrijo_1500.pickle  \n",
       "\n",
       "[6303 rows x 6 columns]"
      ]
     },
     "execution_count": 21,
     "metadata": {},
     "output_type": "execute_result"
    }
   ],
   "source": [
    "espectograma = []\n",
    "for i in range(len(df['Archivos'])):\n",
    "    file = df['Archivos'][i]\n",
    "    carpeta = df['Carpeta'][i]\n",
    "    name, extension = file.split('.')\n",
    "    file_name = carpeta +  '_' +  name + '.pickle'\n",
    "    espectograma.append(file_name)\n",
    "df['Path de espectograma'] = espectograma\n",
    "df"
   ]
  },
  {
   "cell_type": "markdown",
   "metadata": {},
   "source": [
    "4. Entrenar la red neuronal."
   ]
  },
  {
   "cell_type": "markdown",
   "metadata": {},
   "source": [
    "Preparar datos para la red neuronal"
   ]
  },
  {
   "cell_type": "code",
   "execution_count": 22,
   "metadata": {},
   "outputs": [],
   "source": [
    "def writeSpectogram (specfile):\n",
    "    with open(specfile, \"rb\") as f:\n",
    "        S_dB = pickle.load(f)\n",
    "    S_dB=S_dB.astype(np.float32)\n",
    "    return S_dB"
   ]
  },
  {
   "cell_type": "code",
   "execution_count": 23,
   "metadata": {},
   "outputs": [],
   "source": [
    "D_train=[]\n",
    "D_test=[]\n",
    "for i in range(len(df['Clase'])):\n",
    "    classID = df['Clase ID'][i] \n",
    "    path_spect = 'espectogramas' + '/' + df['Path de espectograma'][i]\n",
    "    spec = writeSpectogram(path_spect)\n",
    "    spec =spec .astype(np.float32)\n",
    "    if df['Group'][i] == 'Train':\n",
    "        D_train.append((spec,classID))\n",
    "    else:\n",
    "        D_test.append((spec,classID))\n"
   ]
  },
  {
   "cell_type": "code",
   "execution_count": 24,
   "metadata": {},
   "outputs": [],
   "source": [
    "dataset_train=D_train\n",
    "dataset_test=D_test\n",
    "random.shuffle(dataset_train)\n",
    "random.shuffle(dataset_test)\n",
    "train=dataset_train\n",
    "test=dataset_test\n",
    "X_train, y_train = zip(*train)\n",
    "X_test, y_test = zip(*test)\n",
    "X_train = np.array([x.reshape( (40, 101, 1) ) for x in X_train])\n",
    "X_test = np.array([x.reshape( (40, 101, 1) ) for x in X_test])\n",
    "# Normalización\n",
    "mean = np.mean(X_train, axis=0)\n",
    "std = np.std(X_train, axis=0)\n",
    "X_train = (X_train - mean)/std\n",
    "mean = np.mean(X_test, axis=0)\n",
    "std = np.std(X_test, axis=0)\n",
    "X_test = (X_test - mean)/std\n",
    "y_train = np.array(np_utils.to_categorical(y_train, 12))\n",
    "y_test = np.array(np_utils.to_categorical(y_test, 12))"
   ]
  },
  {
   "cell_type": "markdown",
   "metadata": {},
   "source": [
    "Crear red"
   ]
  },
  {
   "cell_type": "code",
   "execution_count": 45,
   "metadata": {},
   "outputs": [
    {
     "name": "stderr",
     "output_type": "stream",
     "text": [
      "c:\\Users\\psalazar\\.pyenv\\pyenv-win\\versions\\3.9.6\\lib\\site-packages\\keras\\src\\layers\\convolutional\\base_conv.py:99: UserWarning: Do not pass an `input_shape`/`input_dim` argument to a layer. When using Sequential models, prefer using an `Input(shape)` object as the first layer in the model instead.\n",
      "  super().__init__(\n"
     ]
    },
    {
     "data": {
      "text/html": [
       "<pre style=\"white-space:pre;overflow-x:auto;line-height:normal;font-family:Menlo,'DejaVu Sans Mono',consolas,'Courier New',monospace\"><span style=\"font-weight: bold\">Model: \"sequential_4\"</span>\n",
       "</pre>\n"
      ],
      "text/plain": [
       "\u001b[1mModel: \"sequential_4\"\u001b[0m\n"
      ]
     },
     "metadata": {},
     "output_type": "display_data"
    },
    {
     "data": {
      "text/html": [
       "<pre style=\"white-space:pre;overflow-x:auto;line-height:normal;font-family:Menlo,'DejaVu Sans Mono',consolas,'Courier New',monospace\">┏━━━━━━━━━━━━━━━━━━━━━━━━━━━━━━━━━┳━━━━━━━━━━━━━━━━━━━━━━━━┳━━━━━━━━━━━━━━━┓\n",
       "┃<span style=\"font-weight: bold\"> Layer (type)                    </span>┃<span style=\"font-weight: bold\"> Output Shape           </span>┃<span style=\"font-weight: bold\">       Param # </span>┃\n",
       "┡━━━━━━━━━━━━━━━━━━━━━━━━━━━━━━━━━╇━━━━━━━━━━━━━━━━━━━━━━━━╇━━━━━━━━━━━━━━━┩\n",
       "│ conv2d_20 (<span style=\"color: #0087ff; text-decoration-color: #0087ff\">Conv2D</span>)              │ (<span style=\"color: #00d7ff; text-decoration-color: #00d7ff\">None</span>, <span style=\"color: #00af00; text-decoration-color: #00af00\">40</span>, <span style=\"color: #00af00; text-decoration-color: #00af00\">101</span>, <span style=\"color: #00af00; text-decoration-color: #00af00\">12</span>)    │           <span style=\"color: #00af00; text-decoration-color: #00af00\">120</span> │\n",
       "├─────────────────────────────────┼────────────────────────┼───────────────┤\n",
       "│ batch_normalization_20          │ (<span style=\"color: #00d7ff; text-decoration-color: #00d7ff\">None</span>, <span style=\"color: #00af00; text-decoration-color: #00af00\">40</span>, <span style=\"color: #00af00; text-decoration-color: #00af00\">101</span>, <span style=\"color: #00af00; text-decoration-color: #00af00\">12</span>)    │            <span style=\"color: #00af00; text-decoration-color: #00af00\">48</span> │\n",
       "│ (<span style=\"color: #0087ff; text-decoration-color: #0087ff\">BatchNormalization</span>)            │                        │               │\n",
       "├─────────────────────────────────┼────────────────────────┼───────────────┤\n",
       "│ activation_20 (<span style=\"color: #0087ff; text-decoration-color: #0087ff\">Activation</span>)      │ (<span style=\"color: #00d7ff; text-decoration-color: #00d7ff\">None</span>, <span style=\"color: #00af00; text-decoration-color: #00af00\">40</span>, <span style=\"color: #00af00; text-decoration-color: #00af00\">101</span>, <span style=\"color: #00af00; text-decoration-color: #00af00\">12</span>)    │             <span style=\"color: #00af00; text-decoration-color: #00af00\">0</span> │\n",
       "├─────────────────────────────────┼────────────────────────┼───────────────┤\n",
       "│ max_pooling2d_16 (<span style=\"color: #0087ff; text-decoration-color: #0087ff\">MaxPooling2D</span>) │ (<span style=\"color: #00d7ff; text-decoration-color: #00d7ff\">None</span>, <span style=\"color: #00af00; text-decoration-color: #00af00\">20</span>, <span style=\"color: #00af00; text-decoration-color: #00af00\">51</span>, <span style=\"color: #00af00; text-decoration-color: #00af00\">12</span>)     │             <span style=\"color: #00af00; text-decoration-color: #00af00\">0</span> │\n",
       "├─────────────────────────────────┼────────────────────────┼───────────────┤\n",
       "│ conv2d_21 (<span style=\"color: #0087ff; text-decoration-color: #0087ff\">Conv2D</span>)              │ (<span style=\"color: #00d7ff; text-decoration-color: #00d7ff\">None</span>, <span style=\"color: #00af00; text-decoration-color: #00af00\">20</span>, <span style=\"color: #00af00; text-decoration-color: #00af00\">51</span>, <span style=\"color: #00af00; text-decoration-color: #00af00\">24</span>)     │         <span style=\"color: #00af00; text-decoration-color: #00af00\">2,616</span> │\n",
       "├─────────────────────────────────┼────────────────────────┼───────────────┤\n",
       "│ batch_normalization_21          │ (<span style=\"color: #00d7ff; text-decoration-color: #00d7ff\">None</span>, <span style=\"color: #00af00; text-decoration-color: #00af00\">20</span>, <span style=\"color: #00af00; text-decoration-color: #00af00\">51</span>, <span style=\"color: #00af00; text-decoration-color: #00af00\">24</span>)     │            <span style=\"color: #00af00; text-decoration-color: #00af00\">96</span> │\n",
       "│ (<span style=\"color: #0087ff; text-decoration-color: #0087ff\">BatchNormalization</span>)            │                        │               │\n",
       "├─────────────────────────────────┼────────────────────────┼───────────────┤\n",
       "│ activation_21 (<span style=\"color: #0087ff; text-decoration-color: #0087ff\">Activation</span>)      │ (<span style=\"color: #00d7ff; text-decoration-color: #00d7ff\">None</span>, <span style=\"color: #00af00; text-decoration-color: #00af00\">20</span>, <span style=\"color: #00af00; text-decoration-color: #00af00\">51</span>, <span style=\"color: #00af00; text-decoration-color: #00af00\">24</span>)     │             <span style=\"color: #00af00; text-decoration-color: #00af00\">0</span> │\n",
       "├─────────────────────────────────┼────────────────────────┼───────────────┤\n",
       "│ max_pooling2d_17 (<span style=\"color: #0087ff; text-decoration-color: #0087ff\">MaxPooling2D</span>) │ (<span style=\"color: #00d7ff; text-decoration-color: #00d7ff\">None</span>, <span style=\"color: #00af00; text-decoration-color: #00af00\">10</span>, <span style=\"color: #00af00; text-decoration-color: #00af00\">26</span>, <span style=\"color: #00af00; text-decoration-color: #00af00\">24</span>)     │             <span style=\"color: #00af00; text-decoration-color: #00af00\">0</span> │\n",
       "├─────────────────────────────────┼────────────────────────┼───────────────┤\n",
       "│ conv2d_22 (<span style=\"color: #0087ff; text-decoration-color: #0087ff\">Conv2D</span>)              │ (<span style=\"color: #00d7ff; text-decoration-color: #00d7ff\">None</span>, <span style=\"color: #00af00; text-decoration-color: #00af00\">10</span>, <span style=\"color: #00af00; text-decoration-color: #00af00\">26</span>, <span style=\"color: #00af00; text-decoration-color: #00af00\">48</span>)     │        <span style=\"color: #00af00; text-decoration-color: #00af00\">10,416</span> │\n",
       "├─────────────────────────────────┼────────────────────────┼───────────────┤\n",
       "│ batch_normalization_22          │ (<span style=\"color: #00d7ff; text-decoration-color: #00d7ff\">None</span>, <span style=\"color: #00af00; text-decoration-color: #00af00\">10</span>, <span style=\"color: #00af00; text-decoration-color: #00af00\">26</span>, <span style=\"color: #00af00; text-decoration-color: #00af00\">48</span>)     │           <span style=\"color: #00af00; text-decoration-color: #00af00\">192</span> │\n",
       "│ (<span style=\"color: #0087ff; text-decoration-color: #0087ff\">BatchNormalization</span>)            │                        │               │\n",
       "├─────────────────────────────────┼────────────────────────┼───────────────┤\n",
       "│ activation_22 (<span style=\"color: #0087ff; text-decoration-color: #0087ff\">Activation</span>)      │ (<span style=\"color: #00d7ff; text-decoration-color: #00d7ff\">None</span>, <span style=\"color: #00af00; text-decoration-color: #00af00\">10</span>, <span style=\"color: #00af00; text-decoration-color: #00af00\">26</span>, <span style=\"color: #00af00; text-decoration-color: #00af00\">48</span>)     │             <span style=\"color: #00af00; text-decoration-color: #00af00\">0</span> │\n",
       "├─────────────────────────────────┼────────────────────────┼───────────────┤\n",
       "│ max_pooling2d_18 (<span style=\"color: #0087ff; text-decoration-color: #0087ff\">MaxPooling2D</span>) │ (<span style=\"color: #00d7ff; text-decoration-color: #00d7ff\">None</span>, <span style=\"color: #00af00; text-decoration-color: #00af00\">5</span>, <span style=\"color: #00af00; text-decoration-color: #00af00\">13</span>, <span style=\"color: #00af00; text-decoration-color: #00af00\">48</span>)      │             <span style=\"color: #00af00; text-decoration-color: #00af00\">0</span> │\n",
       "├─────────────────────────────────┼────────────────────────┼───────────────┤\n",
       "│ conv2d_23 (<span style=\"color: #0087ff; text-decoration-color: #0087ff\">Conv2D</span>)              │ (<span style=\"color: #00d7ff; text-decoration-color: #00d7ff\">None</span>, <span style=\"color: #00af00; text-decoration-color: #00af00\">5</span>, <span style=\"color: #00af00; text-decoration-color: #00af00\">13</span>, <span style=\"color: #00af00; text-decoration-color: #00af00\">48</span>)      │        <span style=\"color: #00af00; text-decoration-color: #00af00\">20,784</span> │\n",
       "├─────────────────────────────────┼────────────────────────┼───────────────┤\n",
       "│ batch_normalization_23          │ (<span style=\"color: #00d7ff; text-decoration-color: #00d7ff\">None</span>, <span style=\"color: #00af00; text-decoration-color: #00af00\">5</span>, <span style=\"color: #00af00; text-decoration-color: #00af00\">13</span>, <span style=\"color: #00af00; text-decoration-color: #00af00\">48</span>)      │           <span style=\"color: #00af00; text-decoration-color: #00af00\">192</span> │\n",
       "│ (<span style=\"color: #0087ff; text-decoration-color: #0087ff\">BatchNormalization</span>)            │                        │               │\n",
       "├─────────────────────────────────┼────────────────────────┼───────────────┤\n",
       "│ activation_23 (<span style=\"color: #0087ff; text-decoration-color: #0087ff\">Activation</span>)      │ (<span style=\"color: #00d7ff; text-decoration-color: #00d7ff\">None</span>, <span style=\"color: #00af00; text-decoration-color: #00af00\">5</span>, <span style=\"color: #00af00; text-decoration-color: #00af00\">13</span>, <span style=\"color: #00af00; text-decoration-color: #00af00\">48</span>)      │             <span style=\"color: #00af00; text-decoration-color: #00af00\">0</span> │\n",
       "├─────────────────────────────────┼────────────────────────┼───────────────┤\n",
       "│ conv2d_24 (<span style=\"color: #0087ff; text-decoration-color: #0087ff\">Conv2D</span>)              │ (<span style=\"color: #00d7ff; text-decoration-color: #00d7ff\">None</span>, <span style=\"color: #00af00; text-decoration-color: #00af00\">5</span>, <span style=\"color: #00af00; text-decoration-color: #00af00\">13</span>, <span style=\"color: #00af00; text-decoration-color: #00af00\">48</span>)      │        <span style=\"color: #00af00; text-decoration-color: #00af00\">20,784</span> │\n",
       "├─────────────────────────────────┼────────────────────────┼───────────────┤\n",
       "│ batch_normalization_24          │ (<span style=\"color: #00d7ff; text-decoration-color: #00d7ff\">None</span>, <span style=\"color: #00af00; text-decoration-color: #00af00\">5</span>, <span style=\"color: #00af00; text-decoration-color: #00af00\">13</span>, <span style=\"color: #00af00; text-decoration-color: #00af00\">48</span>)      │           <span style=\"color: #00af00; text-decoration-color: #00af00\">192</span> │\n",
       "│ (<span style=\"color: #0087ff; text-decoration-color: #0087ff\">BatchNormalization</span>)            │                        │               │\n",
       "├─────────────────────────────────┼────────────────────────┼───────────────┤\n",
       "│ activation_24 (<span style=\"color: #0087ff; text-decoration-color: #0087ff\">Activation</span>)      │ (<span style=\"color: #00d7ff; text-decoration-color: #00d7ff\">None</span>, <span style=\"color: #00af00; text-decoration-color: #00af00\">5</span>, <span style=\"color: #00af00; text-decoration-color: #00af00\">13</span>, <span style=\"color: #00af00; text-decoration-color: #00af00\">48</span>)      │             <span style=\"color: #00af00; text-decoration-color: #00af00\">0</span> │\n",
       "├─────────────────────────────────┼────────────────────────┼───────────────┤\n",
       "│ max_pooling2d_19 (<span style=\"color: #0087ff; text-decoration-color: #0087ff\">MaxPooling2D</span>) │ (<span style=\"color: #00d7ff; text-decoration-color: #00d7ff\">None</span>, <span style=\"color: #00af00; text-decoration-color: #00af00\">5</span>, <span style=\"color: #00af00; text-decoration-color: #00af00\">13</span>, <span style=\"color: #00af00; text-decoration-color: #00af00\">48</span>)      │             <span style=\"color: #00af00; text-decoration-color: #00af00\">0</span> │\n",
       "├─────────────────────────────────┼────────────────────────┼───────────────┤\n",
       "│ dropout_4 (<span style=\"color: #0087ff; text-decoration-color: #0087ff\">Dropout</span>)             │ (<span style=\"color: #00d7ff; text-decoration-color: #00d7ff\">None</span>, <span style=\"color: #00af00; text-decoration-color: #00af00\">5</span>, <span style=\"color: #00af00; text-decoration-color: #00af00\">13</span>, <span style=\"color: #00af00; text-decoration-color: #00af00\">48</span>)      │             <span style=\"color: #00af00; text-decoration-color: #00af00\">0</span> │\n",
       "├─────────────────────────────────┼────────────────────────┼───────────────┤\n",
       "│ flatten_4 (<span style=\"color: #0087ff; text-decoration-color: #0087ff\">Flatten</span>)             │ (<span style=\"color: #00d7ff; text-decoration-color: #00d7ff\">None</span>, <span style=\"color: #00af00; text-decoration-color: #00af00\">3120</span>)           │             <span style=\"color: #00af00; text-decoration-color: #00af00\">0</span> │\n",
       "├─────────────────────────────────┼────────────────────────┼───────────────┤\n",
       "│ dense_4 (<span style=\"color: #0087ff; text-decoration-color: #0087ff\">Dense</span>)                 │ (<span style=\"color: #00d7ff; text-decoration-color: #00d7ff\">None</span>, <span style=\"color: #00af00; text-decoration-color: #00af00\">12</span>)             │        <span style=\"color: #00af00; text-decoration-color: #00af00\">37,452</span> │\n",
       "└─────────────────────────────────┴────────────────────────┴───────────────┘\n",
       "</pre>\n"
      ],
      "text/plain": [
       "┏━━━━━━━━━━━━━━━━━━━━━━━━━━━━━━━━━┳━━━━━━━━━━━━━━━━━━━━━━━━┳━━━━━━━━━━━━━━━┓\n",
       "┃\u001b[1m \u001b[0m\u001b[1mLayer (type)                   \u001b[0m\u001b[1m \u001b[0m┃\u001b[1m \u001b[0m\u001b[1mOutput Shape          \u001b[0m\u001b[1m \u001b[0m┃\u001b[1m \u001b[0m\u001b[1m      Param #\u001b[0m\u001b[1m \u001b[0m┃\n",
       "┡━━━━━━━━━━━━━━━━━━━━━━━━━━━━━━━━━╇━━━━━━━━━━━━━━━━━━━━━━━━╇━━━━━━━━━━━━━━━┩\n",
       "│ conv2d_20 (\u001b[38;5;33mConv2D\u001b[0m)              │ (\u001b[38;5;45mNone\u001b[0m, \u001b[38;5;34m40\u001b[0m, \u001b[38;5;34m101\u001b[0m, \u001b[38;5;34m12\u001b[0m)    │           \u001b[38;5;34m120\u001b[0m │\n",
       "├─────────────────────────────────┼────────────────────────┼───────────────┤\n",
       "│ batch_normalization_20          │ (\u001b[38;5;45mNone\u001b[0m, \u001b[38;5;34m40\u001b[0m, \u001b[38;5;34m101\u001b[0m, \u001b[38;5;34m12\u001b[0m)    │            \u001b[38;5;34m48\u001b[0m │\n",
       "│ (\u001b[38;5;33mBatchNormalization\u001b[0m)            │                        │               │\n",
       "├─────────────────────────────────┼────────────────────────┼───────────────┤\n",
       "│ activation_20 (\u001b[38;5;33mActivation\u001b[0m)      │ (\u001b[38;5;45mNone\u001b[0m, \u001b[38;5;34m40\u001b[0m, \u001b[38;5;34m101\u001b[0m, \u001b[38;5;34m12\u001b[0m)    │             \u001b[38;5;34m0\u001b[0m │\n",
       "├─────────────────────────────────┼────────────────────────┼───────────────┤\n",
       "│ max_pooling2d_16 (\u001b[38;5;33mMaxPooling2D\u001b[0m) │ (\u001b[38;5;45mNone\u001b[0m, \u001b[38;5;34m20\u001b[0m, \u001b[38;5;34m51\u001b[0m, \u001b[38;5;34m12\u001b[0m)     │             \u001b[38;5;34m0\u001b[0m │\n",
       "├─────────────────────────────────┼────────────────────────┼───────────────┤\n",
       "│ conv2d_21 (\u001b[38;5;33mConv2D\u001b[0m)              │ (\u001b[38;5;45mNone\u001b[0m, \u001b[38;5;34m20\u001b[0m, \u001b[38;5;34m51\u001b[0m, \u001b[38;5;34m24\u001b[0m)     │         \u001b[38;5;34m2,616\u001b[0m │\n",
       "├─────────────────────────────────┼────────────────────────┼───────────────┤\n",
       "│ batch_normalization_21          │ (\u001b[38;5;45mNone\u001b[0m, \u001b[38;5;34m20\u001b[0m, \u001b[38;5;34m51\u001b[0m, \u001b[38;5;34m24\u001b[0m)     │            \u001b[38;5;34m96\u001b[0m │\n",
       "│ (\u001b[38;5;33mBatchNormalization\u001b[0m)            │                        │               │\n",
       "├─────────────────────────────────┼────────────────────────┼───────────────┤\n",
       "│ activation_21 (\u001b[38;5;33mActivation\u001b[0m)      │ (\u001b[38;5;45mNone\u001b[0m, \u001b[38;5;34m20\u001b[0m, \u001b[38;5;34m51\u001b[0m, \u001b[38;5;34m24\u001b[0m)     │             \u001b[38;5;34m0\u001b[0m │\n",
       "├─────────────────────────────────┼────────────────────────┼───────────────┤\n",
       "│ max_pooling2d_17 (\u001b[38;5;33mMaxPooling2D\u001b[0m) │ (\u001b[38;5;45mNone\u001b[0m, \u001b[38;5;34m10\u001b[0m, \u001b[38;5;34m26\u001b[0m, \u001b[38;5;34m24\u001b[0m)     │             \u001b[38;5;34m0\u001b[0m │\n",
       "├─────────────────────────────────┼────────────────────────┼───────────────┤\n",
       "│ conv2d_22 (\u001b[38;5;33mConv2D\u001b[0m)              │ (\u001b[38;5;45mNone\u001b[0m, \u001b[38;5;34m10\u001b[0m, \u001b[38;5;34m26\u001b[0m, \u001b[38;5;34m48\u001b[0m)     │        \u001b[38;5;34m10,416\u001b[0m │\n",
       "├─────────────────────────────────┼────────────────────────┼───────────────┤\n",
       "│ batch_normalization_22          │ (\u001b[38;5;45mNone\u001b[0m, \u001b[38;5;34m10\u001b[0m, \u001b[38;5;34m26\u001b[0m, \u001b[38;5;34m48\u001b[0m)     │           \u001b[38;5;34m192\u001b[0m │\n",
       "│ (\u001b[38;5;33mBatchNormalization\u001b[0m)            │                        │               │\n",
       "├─────────────────────────────────┼────────────────────────┼───────────────┤\n",
       "│ activation_22 (\u001b[38;5;33mActivation\u001b[0m)      │ (\u001b[38;5;45mNone\u001b[0m, \u001b[38;5;34m10\u001b[0m, \u001b[38;5;34m26\u001b[0m, \u001b[38;5;34m48\u001b[0m)     │             \u001b[38;5;34m0\u001b[0m │\n",
       "├─────────────────────────────────┼────────────────────────┼───────────────┤\n",
       "│ max_pooling2d_18 (\u001b[38;5;33mMaxPooling2D\u001b[0m) │ (\u001b[38;5;45mNone\u001b[0m, \u001b[38;5;34m5\u001b[0m, \u001b[38;5;34m13\u001b[0m, \u001b[38;5;34m48\u001b[0m)      │             \u001b[38;5;34m0\u001b[0m │\n",
       "├─────────────────────────────────┼────────────────────────┼───────────────┤\n",
       "│ conv2d_23 (\u001b[38;5;33mConv2D\u001b[0m)              │ (\u001b[38;5;45mNone\u001b[0m, \u001b[38;5;34m5\u001b[0m, \u001b[38;5;34m13\u001b[0m, \u001b[38;5;34m48\u001b[0m)      │        \u001b[38;5;34m20,784\u001b[0m │\n",
       "├─────────────────────────────────┼────────────────────────┼───────────────┤\n",
       "│ batch_normalization_23          │ (\u001b[38;5;45mNone\u001b[0m, \u001b[38;5;34m5\u001b[0m, \u001b[38;5;34m13\u001b[0m, \u001b[38;5;34m48\u001b[0m)      │           \u001b[38;5;34m192\u001b[0m │\n",
       "│ (\u001b[38;5;33mBatchNormalization\u001b[0m)            │                        │               │\n",
       "├─────────────────────────────────┼────────────────────────┼───────────────┤\n",
       "│ activation_23 (\u001b[38;5;33mActivation\u001b[0m)      │ (\u001b[38;5;45mNone\u001b[0m, \u001b[38;5;34m5\u001b[0m, \u001b[38;5;34m13\u001b[0m, \u001b[38;5;34m48\u001b[0m)      │             \u001b[38;5;34m0\u001b[0m │\n",
       "├─────────────────────────────────┼────────────────────────┼───────────────┤\n",
       "│ conv2d_24 (\u001b[38;5;33mConv2D\u001b[0m)              │ (\u001b[38;5;45mNone\u001b[0m, \u001b[38;5;34m5\u001b[0m, \u001b[38;5;34m13\u001b[0m, \u001b[38;5;34m48\u001b[0m)      │        \u001b[38;5;34m20,784\u001b[0m │\n",
       "├─────────────────────────────────┼────────────────────────┼───────────────┤\n",
       "│ batch_normalization_24          │ (\u001b[38;5;45mNone\u001b[0m, \u001b[38;5;34m5\u001b[0m, \u001b[38;5;34m13\u001b[0m, \u001b[38;5;34m48\u001b[0m)      │           \u001b[38;5;34m192\u001b[0m │\n",
       "│ (\u001b[38;5;33mBatchNormalization\u001b[0m)            │                        │               │\n",
       "├─────────────────────────────────┼────────────────────────┼───────────────┤\n",
       "│ activation_24 (\u001b[38;5;33mActivation\u001b[0m)      │ (\u001b[38;5;45mNone\u001b[0m, \u001b[38;5;34m5\u001b[0m, \u001b[38;5;34m13\u001b[0m, \u001b[38;5;34m48\u001b[0m)      │             \u001b[38;5;34m0\u001b[0m │\n",
       "├─────────────────────────────────┼────────────────────────┼───────────────┤\n",
       "│ max_pooling2d_19 (\u001b[38;5;33mMaxPooling2D\u001b[0m) │ (\u001b[38;5;45mNone\u001b[0m, \u001b[38;5;34m5\u001b[0m, \u001b[38;5;34m13\u001b[0m, \u001b[38;5;34m48\u001b[0m)      │             \u001b[38;5;34m0\u001b[0m │\n",
       "├─────────────────────────────────┼────────────────────────┼───────────────┤\n",
       "│ dropout_4 (\u001b[38;5;33mDropout\u001b[0m)             │ (\u001b[38;5;45mNone\u001b[0m, \u001b[38;5;34m5\u001b[0m, \u001b[38;5;34m13\u001b[0m, \u001b[38;5;34m48\u001b[0m)      │             \u001b[38;5;34m0\u001b[0m │\n",
       "├─────────────────────────────────┼────────────────────────┼───────────────┤\n",
       "│ flatten_4 (\u001b[38;5;33mFlatten\u001b[0m)             │ (\u001b[38;5;45mNone\u001b[0m, \u001b[38;5;34m3120\u001b[0m)           │             \u001b[38;5;34m0\u001b[0m │\n",
       "├─────────────────────────────────┼────────────────────────┼───────────────┤\n",
       "│ dense_4 (\u001b[38;5;33mDense\u001b[0m)                 │ (\u001b[38;5;45mNone\u001b[0m, \u001b[38;5;34m12\u001b[0m)             │        \u001b[38;5;34m37,452\u001b[0m │\n",
       "└─────────────────────────────────┴────────────────────────┴───────────────┘\n"
      ]
     },
     "metadata": {},
     "output_type": "display_data"
    },
    {
     "data": {
      "text/html": [
       "<pre style=\"white-space:pre;overflow-x:auto;line-height:normal;font-family:Menlo,'DejaVu Sans Mono',consolas,'Courier New',monospace\"><span style=\"font-weight: bold\"> Total params: </span><span style=\"color: #00af00; text-decoration-color: #00af00\">92,892</span> (362.86 KB)\n",
       "</pre>\n"
      ],
      "text/plain": [
       "\u001b[1m Total params: \u001b[0m\u001b[38;5;34m92,892\u001b[0m (362.86 KB)\n"
      ]
     },
     "metadata": {},
     "output_type": "display_data"
    },
    {
     "data": {
      "text/html": [
       "<pre style=\"white-space:pre;overflow-x:auto;line-height:normal;font-family:Menlo,'DejaVu Sans Mono',consolas,'Courier New',monospace\"><span style=\"font-weight: bold\"> Trainable params: </span><span style=\"color: #00af00; text-decoration-color: #00af00\">92,532</span> (361.45 KB)\n",
       "</pre>\n"
      ],
      "text/plain": [
       "\u001b[1m Trainable params: \u001b[0m\u001b[38;5;34m92,532\u001b[0m (361.45 KB)\n"
      ]
     },
     "metadata": {},
     "output_type": "display_data"
    },
    {
     "data": {
      "text/html": [
       "<pre style=\"white-space:pre;overflow-x:auto;line-height:normal;font-family:Menlo,'DejaVu Sans Mono',consolas,'Courier New',monospace\"><span style=\"font-weight: bold\"> Non-trainable params: </span><span style=\"color: #00af00; text-decoration-color: #00af00\">360</span> (1.41 KB)\n",
       "</pre>\n"
      ],
      "text/plain": [
       "\u001b[1m Non-trainable params: \u001b[0m\u001b[38;5;34m360\u001b[0m (1.41 KB)\n"
      ]
     },
     "metadata": {},
     "output_type": "display_data"
    }
   ],
   "source": [
    "# Construct model \n",
    "model = models.Sequential()\n",
    "\n",
    "# model\n",
    "model.add(layers.Conv2D( input_shape=(40, 101, 1),filters=12, kernel_size=(3, 3), padding='same'))\n",
    "model.add(layers.BatchNormalization())\n",
    "model.add(layers.Activation(activation='relu'))\n",
    "model.add(layers.MaxPooling2D(pool_size=(3, 3), strides=(2, 2), padding='same'))\n",
    "model.add(layers.Conv2D(filters=24, kernel_size=(3, 3), padding='same'))\n",
    "model.add(layers.BatchNormalization())\n",
    "model.add(layers.Activation(activation='relu'))\n",
    "model.add(layers.MaxPooling2D(pool_size=(3, 3), strides=(2, 2), padding='same'))\n",
    "model.add(layers.Conv2D(filters=48, kernel_size=(3, 3), padding='same'))\n",
    "model.add(layers.BatchNormalization())\n",
    "model.add(layers.Activation(activation='relu'))\n",
    "model.add(layers.MaxPooling2D(pool_size=(3, 3),strides=(2, 2), padding='same'))\n",
    "model.add(layers.Conv2D(filters=48, kernel_size=(3, 3), padding='same'))\n",
    "model.add(layers.BatchNormalization())\n",
    "model.add(layers.Activation(activation='relu'))\n",
    "model.add(layers.Conv2D(filters=48, kernel_size=(3, 3), padding='same'))\n",
    "model.add(layers.BatchNormalization())\n",
    "model.add(layers.Activation(activation='relu'))\n",
    "model.add(layers.MaxPooling2D(pool_size=(1, 13), strides=(1, 1), padding='same'))\n",
    "model.add(layers.Dropout(0.2))\n",
    "model.add(layers.Flatten())\n",
    "model.add(layers.Dense(12, activation='softmax'))\n",
    "\n",
    "\n",
    "model.summary()"
   ]
  },
  {
   "cell_type": "markdown",
   "metadata": {},
   "source": [
    "Compilar el modelo"
   ]
  },
  {
   "cell_type": "code",
   "execution_count": 46,
   "metadata": {},
   "outputs": [],
   "source": [
    "model.compile(optimizer=Adam(learning_rate=3e-6),\n",
    "              loss=CategoricalCrossentropy(),\n",
    "              metrics=[metrics.CategoricalAccuracy()])"
   ]
  },
  {
   "cell_type": "markdown",
   "metadata": {},
   "source": [
    "Entrenar modelo"
   ]
  },
  {
   "cell_type": "code",
   "execution_count": 47,
   "metadata": {},
   "outputs": [
    {
     "name": "stdout",
     "output_type": "stream",
     "text": [
      "Epoch 1/130\n",
      "\u001b[1m40/40\u001b[0m \u001b[32m━━━━━━━━━━━━━━━━━━━━\u001b[0m\u001b[37m\u001b[0m \u001b[1m49s\u001b[0m 615ms/step - categorical_accuracy: 0.1308 - loss: 3.0747 - val_categorical_accuracy: 0.1924 - val_loss: 2.2730\n",
      "Epoch 2/130\n",
      "\u001b[1m40/40\u001b[0m \u001b[32m━━━━━━━━━━━━━━━━━━━━\u001b[0m\u001b[37m\u001b[0m \u001b[1m24s\u001b[0m 610ms/step - categorical_accuracy: 0.2852 - loss: 2.0152 - val_categorical_accuracy: 0.2462 - val_loss: 2.1123\n",
      "Epoch 3/130\n",
      "\u001b[1m40/40\u001b[0m \u001b[32m━━━━━━━━━━━━━━━━━━━━\u001b[0m\u001b[37m\u001b[0m \u001b[1m24s\u001b[0m 600ms/step - categorical_accuracy: 0.3627 - loss: 1.7543 - val_categorical_accuracy: 0.2827 - val_loss: 1.9710\n",
      "Epoch 4/130\n",
      "\u001b[1m40/40\u001b[0m \u001b[32m━━━━━━━━━━━━━━━━━━━━\u001b[0m\u001b[37m\u001b[0m \u001b[1m23s\u001b[0m 567ms/step - categorical_accuracy: 0.4590 - loss: 1.5088 - val_categorical_accuracy: 0.3333 - val_loss: 1.8466\n",
      "Epoch 5/130\n",
      "\u001b[1m40/40\u001b[0m \u001b[32m━━━━━━━━━━━━━━━━━━━━\u001b[0m\u001b[37m\u001b[0m \u001b[1m23s\u001b[0m 566ms/step - categorical_accuracy: 0.5020 - loss: 1.3836 - val_categorical_accuracy: 0.3666 - val_loss: 1.7279\n",
      "Epoch 6/130\n",
      "\u001b[1m40/40\u001b[0m \u001b[32m━━━━━━━━━━━━━━━━━━━━\u001b[0m\u001b[37m\u001b[0m \u001b[1m18s\u001b[0m 446ms/step - categorical_accuracy: 0.5526 - loss: 1.2546 - val_categorical_accuracy: 0.4038 - val_loss: 1.6136\n",
      "Epoch 7/130\n",
      "\u001b[1m40/40\u001b[0m \u001b[32m━━━━━━━━━━━━━━━━━━━━\u001b[0m\u001b[37m\u001b[0m \u001b[1m18s\u001b[0m 456ms/step - categorical_accuracy: 0.5710 - loss: 1.1915 - val_categorical_accuracy: 0.4458 - val_loss: 1.4653\n",
      "Epoch 8/130\n",
      "\u001b[1m40/40\u001b[0m \u001b[32m━━━━━━━━━━━━━━━━━━━━\u001b[0m\u001b[37m\u001b[0m \u001b[1m19s\u001b[0m 488ms/step - categorical_accuracy: 0.5881 - loss: 1.1128 - val_categorical_accuracy: 0.4885 - val_loss: 1.3554\n",
      "Epoch 9/130\n",
      "\u001b[1m40/40\u001b[0m \u001b[32m━━━━━━━━━━━━━━━━━━━━\u001b[0m\u001b[37m\u001b[0m \u001b[1m26s\u001b[0m 632ms/step - categorical_accuracy: 0.6222 - loss: 1.0498 - val_categorical_accuracy: 0.5154 - val_loss: 1.2798\n",
      "Epoch 10/130\n",
      "\u001b[1m40/40\u001b[0m \u001b[32m━━━━━━━━━━━━━━━━━━━━\u001b[0m\u001b[37m\u001b[0m \u001b[1m20s\u001b[0m 503ms/step - categorical_accuracy: 0.6380 - loss: 0.9904 - val_categorical_accuracy: 0.5598 - val_loss: 1.1977\n",
      "Epoch 11/130\n",
      "\u001b[1m40/40\u001b[0m \u001b[32m━━━━━━━━━━━━━━━━━━━━\u001b[0m\u001b[37m\u001b[0m \u001b[1m21s\u001b[0m 527ms/step - categorical_accuracy: 0.6474 - loss: 0.9543 - val_categorical_accuracy: 0.5756 - val_loss: 1.1463\n",
      "Epoch 12/130\n",
      "\u001b[1m40/40\u001b[0m \u001b[32m━━━━━━━━━━━━━━━━━━━━\u001b[0m\u001b[37m\u001b[0m \u001b[1m19s\u001b[0m 478ms/step - categorical_accuracy: 0.6575 - loss: 0.9145 - val_categorical_accuracy: 0.5907 - val_loss: 1.0985\n",
      "Epoch 13/130\n",
      "\u001b[1m40/40\u001b[0m \u001b[32m━━━━━━━━━━━━━━━━━━━━\u001b[0m\u001b[37m\u001b[0m \u001b[1m21s\u001b[0m 516ms/step - categorical_accuracy: 0.6780 - loss: 0.8892 - val_categorical_accuracy: 0.6105 - val_loss: 1.0540\n",
      "Epoch 14/130\n",
      "\u001b[1m40/40\u001b[0m \u001b[32m━━━━━━━━━━━━━━━━━━━━\u001b[0m\u001b[37m\u001b[0m \u001b[1m19s\u001b[0m 463ms/step - categorical_accuracy: 0.6799 - loss: 0.8378 - val_categorical_accuracy: 0.6310 - val_loss: 1.0311\n",
      "Epoch 15/130\n",
      "\u001b[1m40/40\u001b[0m \u001b[32m━━━━━━━━━━━━━━━━━━━━\u001b[0m\u001b[37m\u001b[0m \u001b[1m24s\u001b[0m 612ms/step - categorical_accuracy: 0.6935 - loss: 0.8356 - val_categorical_accuracy: 0.6318 - val_loss: 1.0115\n",
      "Epoch 16/130\n",
      "\u001b[1m40/40\u001b[0m \u001b[32m━━━━━━━━━━━━━━━━━━━━\u001b[0m\u001b[37m\u001b[0m \u001b[1m20s\u001b[0m 478ms/step - categorical_accuracy: 0.7110 - loss: 0.7706 - val_categorical_accuracy: 0.6310 - val_loss: 0.9970\n",
      "Epoch 17/130\n",
      "\u001b[1m40/40\u001b[0m \u001b[32m━━━━━━━━━━━━━━━━━━━━\u001b[0m\u001b[37m\u001b[0m \u001b[1m19s\u001b[0m 465ms/step - categorical_accuracy: 0.7210 - loss: 0.7609 - val_categorical_accuracy: 0.6334 - val_loss: 0.9838\n",
      "Epoch 18/130\n",
      "\u001b[1m40/40\u001b[0m \u001b[32m━━━━━━━━━━━━━━━━━━━━\u001b[0m\u001b[37m\u001b[0m \u001b[1m18s\u001b[0m 452ms/step - categorical_accuracy: 0.7343 - loss: 0.7346 - val_categorical_accuracy: 0.6421 - val_loss: 0.9769\n",
      "Epoch 19/130\n",
      "\u001b[1m40/40\u001b[0m \u001b[32m━━━━━━━━━━━━━━━━━━━━\u001b[0m\u001b[37m\u001b[0m \u001b[1m21s\u001b[0m 523ms/step - categorical_accuracy: 0.7356 - loss: 0.7024 - val_categorical_accuracy: 0.6485 - val_loss: 0.9358\n",
      "Epoch 20/130\n",
      "\u001b[1m40/40\u001b[0m \u001b[32m━━━━━━━━━━━━━━━━━━━━\u001b[0m\u001b[37m\u001b[0m \u001b[1m21s\u001b[0m 526ms/step - categorical_accuracy: 0.7325 - loss: 0.7064 - val_categorical_accuracy: 0.6516 - val_loss: 0.9259\n",
      "Epoch 21/130\n",
      "\u001b[1m40/40\u001b[0m \u001b[32m━━━━━━━━━━━━━━━━━━━━\u001b[0m\u001b[37m\u001b[0m \u001b[1m21s\u001b[0m 505ms/step - categorical_accuracy: 0.7494 - loss: 0.6570 - val_categorical_accuracy: 0.6627 - val_loss: 0.9104\n",
      "Epoch 22/130\n",
      "\u001b[1m40/40\u001b[0m \u001b[32m━━━━━━━━━━━━━━━━━━━━\u001b[0m\u001b[37m\u001b[0m \u001b[1m21s\u001b[0m 530ms/step - categorical_accuracy: 0.7447 - loss: 0.6797 - val_categorical_accuracy: 0.6603 - val_loss: 0.9146\n",
      "Epoch 23/130\n",
      "\u001b[1m40/40\u001b[0m \u001b[32m━━━━━━━━━━━━━━━━━━━━\u001b[0m\u001b[37m\u001b[0m \u001b[1m17s\u001b[0m 435ms/step - categorical_accuracy: 0.7556 - loss: 0.6299 - val_categorical_accuracy: 0.6698 - val_loss: 0.8941\n",
      "Epoch 24/130\n",
      "\u001b[1m40/40\u001b[0m \u001b[32m━━━━━━━━━━━━━━━━━━━━\u001b[0m\u001b[37m\u001b[0m \u001b[1m18s\u001b[0m 456ms/step - categorical_accuracy: 0.7654 - loss: 0.6296 - val_categorical_accuracy: 0.6706 - val_loss: 0.8822\n",
      "Epoch 25/130\n",
      "\u001b[1m40/40\u001b[0m \u001b[32m━━━━━━━━━━━━━━━━━━━━\u001b[0m\u001b[37m\u001b[0m \u001b[1m20s\u001b[0m 491ms/step - categorical_accuracy: 0.7733 - loss: 0.6158 - val_categorical_accuracy: 0.6675 - val_loss: 0.8899\n",
      "Epoch 26/130\n",
      "\u001b[1m40/40\u001b[0m \u001b[32m━━━━━━━━━━━━━━━━━━━━\u001b[0m\u001b[37m\u001b[0m \u001b[1m18s\u001b[0m 434ms/step - categorical_accuracy: 0.7921 - loss: 0.5578 - val_categorical_accuracy: 0.6698 - val_loss: 0.8707\n",
      "Epoch 27/130\n",
      "\u001b[1m40/40\u001b[0m \u001b[32m━━━━━━━━━━━━━━━━━━━━\u001b[0m\u001b[37m\u001b[0m \u001b[1m18s\u001b[0m 453ms/step - categorical_accuracy: 0.7758 - loss: 0.5868 - val_categorical_accuracy: 0.6825 - val_loss: 0.8677\n",
      "Epoch 28/130\n",
      "\u001b[1m40/40\u001b[0m \u001b[32m━━━━━━━━━━━━━━━━━━━━\u001b[0m\u001b[37m\u001b[0m \u001b[1m19s\u001b[0m 476ms/step - categorical_accuracy: 0.7911 - loss: 0.5398 - val_categorical_accuracy: 0.6849 - val_loss: 0.8577\n",
      "Epoch 29/130\n",
      "\u001b[1m40/40\u001b[0m \u001b[32m━━━━━━━━━━━━━━━━━━━━\u001b[0m\u001b[37m\u001b[0m \u001b[1m17s\u001b[0m 434ms/step - categorical_accuracy: 0.7831 - loss: 0.5601 - val_categorical_accuracy: 0.6865 - val_loss: 0.8519\n",
      "Epoch 30/130\n",
      "\u001b[1m40/40\u001b[0m \u001b[32m━━━━━━━━━━━━━━━━━━━━\u001b[0m\u001b[37m\u001b[0m \u001b[1m17s\u001b[0m 414ms/step - categorical_accuracy: 0.8062 - loss: 0.5228 - val_categorical_accuracy: 0.6841 - val_loss: 0.8525\n",
      "Epoch 31/130\n",
      "\u001b[1m40/40\u001b[0m \u001b[32m━━━━━━━━━━━━━━━━━━━━\u001b[0m\u001b[37m\u001b[0m \u001b[1m17s\u001b[0m 420ms/step - categorical_accuracy: 0.8055 - loss: 0.5444 - val_categorical_accuracy: 0.6920 - val_loss: 0.8216\n",
      "Epoch 32/130\n",
      "\u001b[1m40/40\u001b[0m \u001b[32m━━━━━━━━━━━━━━━━━━━━\u001b[0m\u001b[37m\u001b[0m \u001b[1m18s\u001b[0m 454ms/step - categorical_accuracy: 0.8020 - loss: 0.5209 - val_categorical_accuracy: 0.6865 - val_loss: 0.8355\n",
      "Epoch 33/130\n",
      "\u001b[1m40/40\u001b[0m \u001b[32m━━━━━━━━━━━━━━━━━━━━\u001b[0m\u001b[37m\u001b[0m \u001b[1m20s\u001b[0m 508ms/step - categorical_accuracy: 0.8210 - loss: 0.5105 - val_categorical_accuracy: 0.6888 - val_loss: 0.8145\n",
      "Epoch 34/130\n",
      "\u001b[1m40/40\u001b[0m \u001b[32m━━━━━━━━━━━━━━━━━━━━\u001b[0m\u001b[37m\u001b[0m \u001b[1m21s\u001b[0m 523ms/step - categorical_accuracy: 0.8177 - loss: 0.5004 - val_categorical_accuracy: 0.6975 - val_loss: 0.8150\n",
      "Epoch 35/130\n",
      "\u001b[1m40/40\u001b[0m \u001b[32m━━━━━━━━━━━━━━━━━━━━\u001b[0m\u001b[37m\u001b[0m \u001b[1m19s\u001b[0m 486ms/step - categorical_accuracy: 0.8143 - loss: 0.4822 - val_categorical_accuracy: 0.6928 - val_loss: 0.8120\n",
      "Epoch 36/130\n",
      "\u001b[1m40/40\u001b[0m \u001b[32m━━━━━━━━━━━━━━━━━━━━\u001b[0m\u001b[37m\u001b[0m \u001b[1m19s\u001b[0m 485ms/step - categorical_accuracy: 0.8352 - loss: 0.4480 - val_categorical_accuracy: 0.6857 - val_loss: 0.8331\n",
      "Epoch 37/130\n",
      "\u001b[1m40/40\u001b[0m \u001b[32m━━━━━━━━━━━━━━━━━━━━\u001b[0m\u001b[37m\u001b[0m \u001b[1m23s\u001b[0m 564ms/step - categorical_accuracy: 0.8289 - loss: 0.4488 - val_categorical_accuracy: 0.6896 - val_loss: 0.8073\n",
      "Epoch 38/130\n",
      "\u001b[1m40/40\u001b[0m \u001b[32m━━━━━━━━━━━━━━━━━━━━\u001b[0m\u001b[37m\u001b[0m \u001b[1m19s\u001b[0m 463ms/step - categorical_accuracy: 0.8344 - loss: 0.4485 - val_categorical_accuracy: 0.7031 - val_loss: 0.7951\n",
      "Epoch 39/130\n",
      "\u001b[1m40/40\u001b[0m \u001b[32m━━━━━━━━━━━━━━━━━━━━\u001b[0m\u001b[37m\u001b[0m \u001b[1m19s\u001b[0m 468ms/step - categorical_accuracy: 0.8287 - loss: 0.4350 - val_categorical_accuracy: 0.7118 - val_loss: 0.7746\n",
      "Epoch 40/130\n",
      "\u001b[1m40/40\u001b[0m \u001b[32m━━━━━━━━━━━━━━━━━━━━\u001b[0m\u001b[37m\u001b[0m \u001b[1m19s\u001b[0m 431ms/step - categorical_accuracy: 0.8320 - loss: 0.4456 - val_categorical_accuracy: 0.7007 - val_loss: 0.7924\n",
      "Epoch 41/130\n",
      "\u001b[1m40/40\u001b[0m \u001b[32m━━━━━━━━━━━━━━━━━━━━\u001b[0m\u001b[37m\u001b[0m \u001b[1m18s\u001b[0m 445ms/step - categorical_accuracy: 0.8392 - loss: 0.4205 - val_categorical_accuracy: 0.6975 - val_loss: 0.7851\n",
      "Epoch 42/130\n",
      "\u001b[1m40/40\u001b[0m \u001b[32m━━━━━━━━━━━━━━━━━━━━\u001b[0m\u001b[37m\u001b[0m \u001b[1m23s\u001b[0m 519ms/step - categorical_accuracy: 0.8437 - loss: 0.4101 - val_categorical_accuracy: 0.7070 - val_loss: 0.7811\n",
      "Epoch 43/130\n",
      "\u001b[1m40/40\u001b[0m \u001b[32m━━━━━━━━━━━━━━━━━━━━\u001b[0m\u001b[37m\u001b[0m \u001b[1m22s\u001b[0m 543ms/step - categorical_accuracy: 0.8491 - loss: 0.4253 - val_categorical_accuracy: 0.7063 - val_loss: 0.7967\n",
      "Epoch 44/130\n",
      "\u001b[1m40/40\u001b[0m \u001b[32m━━━━━━━━━━━━━━━━━━━━\u001b[0m\u001b[37m\u001b[0m \u001b[1m28s\u001b[0m 691ms/step - categorical_accuracy: 0.8571 - loss: 0.3856 - val_categorical_accuracy: 0.7086 - val_loss: 0.7810\n",
      "Epoch 45/130\n",
      "\u001b[1m40/40\u001b[0m \u001b[32m━━━━━━━━━━━━━━━━━━━━\u001b[0m\u001b[37m\u001b[0m \u001b[1m20s\u001b[0m 499ms/step - categorical_accuracy: 0.8557 - loss: 0.3954 - val_categorical_accuracy: 0.7126 - val_loss: 0.7730\n",
      "Epoch 46/130\n",
      "\u001b[1m40/40\u001b[0m \u001b[32m━━━━━━━━━━━━━━━━━━━━\u001b[0m\u001b[37m\u001b[0m \u001b[1m28s\u001b[0m 693ms/step - categorical_accuracy: 0.8623 - loss: 0.3823 - val_categorical_accuracy: 0.7078 - val_loss: 0.7752\n",
      "Epoch 47/130\n",
      "\u001b[1m40/40\u001b[0m \u001b[32m━━━━━━━━━━━━━━━━━━━━\u001b[0m\u001b[37m\u001b[0m \u001b[1m34s\u001b[0m 527ms/step - categorical_accuracy: 0.8567 - loss: 0.3839 - val_categorical_accuracy: 0.6991 - val_loss: 0.8018\n",
      "Epoch 48/130\n",
      "\u001b[1m40/40\u001b[0m \u001b[32m━━━━━━━━━━━━━━━━━━━━\u001b[0m\u001b[37m\u001b[0m \u001b[1m22s\u001b[0m 546ms/step - categorical_accuracy: 0.8534 - loss: 0.3898 - val_categorical_accuracy: 0.7094 - val_loss: 0.7720\n",
      "Epoch 49/130\n",
      "\u001b[1m40/40\u001b[0m \u001b[32m━━━━━━━━━━━━━━━━━━━━\u001b[0m\u001b[37m\u001b[0m \u001b[1m39s\u001b[0m 488ms/step - categorical_accuracy: 0.8658 - loss: 0.3689 - val_categorical_accuracy: 0.7118 - val_loss: 0.7651\n",
      "Epoch 50/130\n",
      "\u001b[1m40/40\u001b[0m \u001b[32m━━━━━━━━━━━━━━━━━━━━\u001b[0m\u001b[37m\u001b[0m \u001b[1m17s\u001b[0m 429ms/step - categorical_accuracy: 0.8661 - loss: 0.3541 - val_categorical_accuracy: 0.7110 - val_loss: 0.7728\n",
      "Epoch 51/130\n",
      "\u001b[1m40/40\u001b[0m \u001b[32m━━━━━━━━━━━━━━━━━━━━\u001b[0m\u001b[37m\u001b[0m \u001b[1m17s\u001b[0m 436ms/step - categorical_accuracy: 0.8753 - loss: 0.3394 - val_categorical_accuracy: 0.7094 - val_loss: 0.7703\n",
      "Epoch 52/130\n",
      "\u001b[1m40/40\u001b[0m \u001b[32m━━━━━━━━━━━━━━━━━━━━\u001b[0m\u001b[37m\u001b[0m \u001b[1m22s\u001b[0m 556ms/step - categorical_accuracy: 0.8793 - loss: 0.3391 - val_categorical_accuracy: 0.7205 - val_loss: 0.7482\n",
      "Epoch 53/130\n",
      "\u001b[1m40/40\u001b[0m \u001b[32m━━━━━━━━━━━━━━━━━━━━\u001b[0m\u001b[37m\u001b[0m \u001b[1m21s\u001b[0m 537ms/step - categorical_accuracy: 0.8723 - loss: 0.3538 - val_categorical_accuracy: 0.7102 - val_loss: 0.7626\n",
      "Epoch 54/130\n",
      "\u001b[1m40/40\u001b[0m \u001b[32m━━━━━━━━━━━━━━━━━━━━\u001b[0m\u001b[37m\u001b[0m \u001b[1m20s\u001b[0m 494ms/step - categorical_accuracy: 0.8783 - loss: 0.3260 - val_categorical_accuracy: 0.7142 - val_loss: 0.7640\n",
      "Epoch 55/130\n",
      "\u001b[1m40/40\u001b[0m \u001b[32m━━━━━━━━━━━━━━━━━━━━\u001b[0m\u001b[37m\u001b[0m \u001b[1m20s\u001b[0m 491ms/step - categorical_accuracy: 0.8946 - loss: 0.3148 - val_categorical_accuracy: 0.7276 - val_loss: 0.7344\n",
      "Epoch 56/130\n",
      "\u001b[1m40/40\u001b[0m \u001b[32m━━━━━━━━━━━━━━━━━━━━\u001b[0m\u001b[37m\u001b[0m \u001b[1m22s\u001b[0m 541ms/step - categorical_accuracy: 0.8878 - loss: 0.3211 - val_categorical_accuracy: 0.7158 - val_loss: 0.7702\n",
      "Epoch 57/130\n",
      "\u001b[1m40/40\u001b[0m \u001b[32m━━━━━━━━━━━━━━━━━━━━\u001b[0m\u001b[37m\u001b[0m \u001b[1m23s\u001b[0m 567ms/step - categorical_accuracy: 0.8783 - loss: 0.3230 - val_categorical_accuracy: 0.7260 - val_loss: 0.7349\n",
      "Epoch 58/130\n",
      "\u001b[1m40/40\u001b[0m \u001b[32m━━━━━━━━━━━━━━━━━━━━\u001b[0m\u001b[37m\u001b[0m \u001b[1m35s\u001b[0m 874ms/step - categorical_accuracy: 0.8914 - loss: 0.2982 - val_categorical_accuracy: 0.7150 - val_loss: 0.7581\n",
      "Epoch 59/130\n",
      "\u001b[1m40/40\u001b[0m \u001b[32m━━━━━━━━━━━━━━━━━━━━\u001b[0m\u001b[37m\u001b[0m \u001b[1m19s\u001b[0m 458ms/step - categorical_accuracy: 0.8937 - loss: 0.3116 - val_categorical_accuracy: 0.7213 - val_loss: 0.7477\n",
      "Epoch 60/130\n",
      "\u001b[1m40/40\u001b[0m \u001b[32m━━━━━━━━━━━━━━━━━━━━\u001b[0m\u001b[37m\u001b[0m \u001b[1m19s\u001b[0m 461ms/step - categorical_accuracy: 0.8902 - loss: 0.2979 - val_categorical_accuracy: 0.7205 - val_loss: 0.7466\n",
      "Epoch 61/130\n",
      "\u001b[1m40/40\u001b[0m \u001b[32m━━━━━━━━━━━━━━━━━━━━\u001b[0m\u001b[37m\u001b[0m \u001b[1m18s\u001b[0m 439ms/step - categorical_accuracy: 0.8929 - loss: 0.2979 - val_categorical_accuracy: 0.7253 - val_loss: 0.7473\n",
      "Epoch 62/130\n",
      "\u001b[1m40/40\u001b[0m \u001b[32m━━━━━━━━━━━━━━━━━━━━\u001b[0m\u001b[37m\u001b[0m \u001b[1m21s\u001b[0m 512ms/step - categorical_accuracy: 0.8962 - loss: 0.2929 - val_categorical_accuracy: 0.7150 - val_loss: 0.7646\n",
      "Epoch 63/130\n",
      "\u001b[1m40/40\u001b[0m \u001b[32m━━━━━━━━━━━━━━━━━━━━\u001b[0m\u001b[37m\u001b[0m \u001b[1m18s\u001b[0m 447ms/step - categorical_accuracy: 0.9123 - loss: 0.2534 - val_categorical_accuracy: 0.7276 - val_loss: 0.7375\n",
      "Epoch 64/130\n",
      "\u001b[1m40/40\u001b[0m \u001b[32m━━━━━━━━━━━━━━━━━━━━\u001b[0m\u001b[37m\u001b[0m \u001b[1m19s\u001b[0m 473ms/step - categorical_accuracy: 0.9021 - loss: 0.2707 - val_categorical_accuracy: 0.7173 - val_loss: 0.7553\n",
      "Epoch 65/130\n",
      "\u001b[1m40/40\u001b[0m \u001b[32m━━━━━━━━━━━━━━━━━━━━\u001b[0m\u001b[37m\u001b[0m \u001b[1m18s\u001b[0m 460ms/step - categorical_accuracy: 0.8978 - loss: 0.2703 - val_categorical_accuracy: 0.7379 - val_loss: 0.7312\n",
      "Epoch 66/130\n",
      "\u001b[1m40/40\u001b[0m \u001b[32m━━━━━━━━━━━━━━━━━━━━\u001b[0m\u001b[37m\u001b[0m \u001b[1m20s\u001b[0m 487ms/step - categorical_accuracy: 0.9082 - loss: 0.2662 - val_categorical_accuracy: 0.7150 - val_loss: 0.7694\n",
      "Epoch 67/130\n",
      "\u001b[1m40/40\u001b[0m \u001b[32m━━━━━━━━━━━━━━━━━━━━\u001b[0m\u001b[37m\u001b[0m \u001b[1m21s\u001b[0m 529ms/step - categorical_accuracy: 0.9138 - loss: 0.2526 - val_categorical_accuracy: 0.7292 - val_loss: 0.7428\n",
      "Epoch 68/130\n",
      "\u001b[1m40/40\u001b[0m \u001b[32m━━━━━━━━━━━━━━━━━━━━\u001b[0m\u001b[37m\u001b[0m \u001b[1m19s\u001b[0m 479ms/step - categorical_accuracy: 0.9115 - loss: 0.2538 - val_categorical_accuracy: 0.7276 - val_loss: 0.7553\n",
      "Epoch 69/130\n",
      "\u001b[1m40/40\u001b[0m \u001b[32m━━━━━━━━━━━━━━━━━━━━\u001b[0m\u001b[37m\u001b[0m \u001b[1m22s\u001b[0m 544ms/step - categorical_accuracy: 0.9066 - loss: 0.2620 - val_categorical_accuracy: 0.7332 - val_loss: 0.7356\n",
      "Epoch 70/130\n",
      "\u001b[1m40/40\u001b[0m \u001b[32m━━━━━━━━━━━━━━━━━━━━\u001b[0m\u001b[37m\u001b[0m \u001b[1m20s\u001b[0m 505ms/step - categorical_accuracy: 0.9078 - loss: 0.2572 - val_categorical_accuracy: 0.7268 - val_loss: 0.7474\n",
      "Epoch 71/130\n",
      "\u001b[1m40/40\u001b[0m \u001b[32m━━━━━━━━━━━━━━━━━━━━\u001b[0m\u001b[37m\u001b[0m \u001b[1m21s\u001b[0m 526ms/step - categorical_accuracy: 0.9136 - loss: 0.2486 - val_categorical_accuracy: 0.7245 - val_loss: 0.7708\n",
      "Epoch 72/130\n",
      "\u001b[1m40/40\u001b[0m \u001b[32m━━━━━━━━━━━━━━━━━━━━\u001b[0m\u001b[37m\u001b[0m \u001b[1m25s\u001b[0m 618ms/step - categorical_accuracy: 0.9240 - loss: 0.2265 - val_categorical_accuracy: 0.7078 - val_loss: 0.7714\n",
      "Epoch 73/130\n",
      "\u001b[1m40/40\u001b[0m \u001b[32m━━━━━━━━━━━━━━━━━━━━\u001b[0m\u001b[37m\u001b[0m \u001b[1m23s\u001b[0m 566ms/step - categorical_accuracy: 0.9165 - loss: 0.2332 - val_categorical_accuracy: 0.7229 - val_loss: 0.7583\n",
      "Epoch 74/130\n",
      "\u001b[1m40/40\u001b[0m \u001b[32m━━━━━━━━━━━━━━━━━━━━\u001b[0m\u001b[37m\u001b[0m \u001b[1m26s\u001b[0m 641ms/step - categorical_accuracy: 0.9251 - loss: 0.2262 - val_categorical_accuracy: 0.7316 - val_loss: 0.7540\n",
      "Epoch 75/130\n",
      "\u001b[1m40/40\u001b[0m \u001b[32m━━━━━━━━━━━━━━━━━━━━\u001b[0m\u001b[37m\u001b[0m \u001b[1m26s\u001b[0m 650ms/step - categorical_accuracy: 0.9237 - loss: 0.2258 - val_categorical_accuracy: 0.7268 - val_loss: 0.7513\n",
      "Epoch 76/130\n",
      "\u001b[1m40/40\u001b[0m \u001b[32m━━━━━━━━━━━━━━━━━━━━\u001b[0m\u001b[37m\u001b[0m \u001b[1m23s\u001b[0m 573ms/step - categorical_accuracy: 0.9235 - loss: 0.2163 - val_categorical_accuracy: 0.7237 - val_loss: 0.7517\n",
      "Epoch 77/130\n",
      "\u001b[1m40/40\u001b[0m \u001b[32m━━━━━━━━━━━━━━━━━━━━\u001b[0m\u001b[37m\u001b[0m \u001b[1m23s\u001b[0m 562ms/step - categorical_accuracy: 0.9176 - loss: 0.2210 - val_categorical_accuracy: 0.7197 - val_loss: 0.7708\n",
      "Epoch 78/130\n",
      "\u001b[1m40/40\u001b[0m \u001b[32m━━━━━━━━━━━━━━━━━━━━\u001b[0m\u001b[37m\u001b[0m \u001b[1m22s\u001b[0m 552ms/step - categorical_accuracy: 0.9260 - loss: 0.2041 - val_categorical_accuracy: 0.7348 - val_loss: 0.7563\n",
      "Epoch 79/130\n",
      "\u001b[1m40/40\u001b[0m \u001b[32m━━━━━━━━━━━━━━━━━━━━\u001b[0m\u001b[37m\u001b[0m \u001b[1m20s\u001b[0m 506ms/step - categorical_accuracy: 0.9212 - loss: 0.2094 - val_categorical_accuracy: 0.7260 - val_loss: 0.7722\n",
      "Epoch 80/130\n",
      "\u001b[1m40/40\u001b[0m \u001b[32m━━━━━━━━━━━━━━━━━━━━\u001b[0m\u001b[37m\u001b[0m \u001b[1m21s\u001b[0m 533ms/step - categorical_accuracy: 0.9304 - loss: 0.2104 - val_categorical_accuracy: 0.7300 - val_loss: 0.7589\n",
      "Epoch 81/130\n",
      "\u001b[1m40/40\u001b[0m \u001b[32m━━━━━━━━━━━━━━━━━━━━\u001b[0m\u001b[37m\u001b[0m \u001b[1m23s\u001b[0m 565ms/step - categorical_accuracy: 0.9356 - loss: 0.1946 - val_categorical_accuracy: 0.7284 - val_loss: 0.7715\n",
      "Epoch 82/130\n",
      "\u001b[1m40/40\u001b[0m \u001b[32m━━━━━━━━━━━━━━━━━━━━\u001b[0m\u001b[37m\u001b[0m \u001b[1m23s\u001b[0m 568ms/step - categorical_accuracy: 0.9273 - loss: 0.2001 - val_categorical_accuracy: 0.7284 - val_loss: 0.7515\n",
      "Epoch 83/130\n",
      "\u001b[1m40/40\u001b[0m \u001b[32m━━━━━━━━━━━━━━━━━━━━\u001b[0m\u001b[37m\u001b[0m \u001b[1m23s\u001b[0m 568ms/step - categorical_accuracy: 0.9382 - loss: 0.1929 - val_categorical_accuracy: 0.7284 - val_loss: 0.7791\n",
      "Epoch 84/130\n",
      "\u001b[1m40/40\u001b[0m \u001b[32m━━━━━━━━━━━━━━━━━━━━\u001b[0m\u001b[37m\u001b[0m \u001b[1m21s\u001b[0m 526ms/step - categorical_accuracy: 0.9407 - loss: 0.1829 - val_categorical_accuracy: 0.7356 - val_loss: 0.7622\n",
      "Epoch 85/130\n",
      "\u001b[1m40/40\u001b[0m \u001b[32m━━━━━━━━━━━━━━━━━━━━\u001b[0m\u001b[37m\u001b[0m \u001b[1m20s\u001b[0m 494ms/step - categorical_accuracy: 0.9353 - loss: 0.1959 - val_categorical_accuracy: 0.7284 - val_loss: 0.7710\n",
      "Epoch 86/130\n",
      "\u001b[1m40/40\u001b[0m \u001b[32m━━━━━━━━━━━━━━━━━━━━\u001b[0m\u001b[37m\u001b[0m \u001b[1m21s\u001b[0m 538ms/step - categorical_accuracy: 0.9358 - loss: 0.1933 - val_categorical_accuracy: 0.7427 - val_loss: 0.7530\n",
      "Epoch 87/130\n",
      "\u001b[1m40/40\u001b[0m \u001b[32m━━━━━━━━━━━━━━━━━━━━\u001b[0m\u001b[37m\u001b[0m \u001b[1m24s\u001b[0m 604ms/step - categorical_accuracy: 0.9376 - loss: 0.1866 - val_categorical_accuracy: 0.7395 - val_loss: 0.7527\n",
      "Epoch 88/130\n",
      "\u001b[1m40/40\u001b[0m \u001b[32m━━━━━━━━━━━━━━━━━━━━\u001b[0m\u001b[37m\u001b[0m \u001b[1m36s\u001b[0m 491ms/step - categorical_accuracy: 0.9400 - loss: 0.1703 - val_categorical_accuracy: 0.7340 - val_loss: 0.7717\n",
      "Epoch 89/130\n",
      "\u001b[1m40/40\u001b[0m \u001b[32m━━━━━━━━━━━━━━━━━━━━\u001b[0m\u001b[37m\u001b[0m \u001b[1m20s\u001b[0m 493ms/step - categorical_accuracy: 0.9444 - loss: 0.1717 - val_categorical_accuracy: 0.7427 - val_loss: 0.7726\n",
      "Epoch 90/130\n",
      "\u001b[1m40/40\u001b[0m \u001b[32m━━━━━━━━━━━━━━━━━━━━\u001b[0m\u001b[37m\u001b[0m \u001b[1m18s\u001b[0m 440ms/step - categorical_accuracy: 0.9307 - loss: 0.1939 - val_categorical_accuracy: 0.7451 - val_loss: 0.7601\n",
      "Epoch 91/130\n",
      "\u001b[1m40/40\u001b[0m \u001b[32m━━━━━━━━━━━━━━━━━━━━\u001b[0m\u001b[37m\u001b[0m \u001b[1m20s\u001b[0m 494ms/step - categorical_accuracy: 0.9430 - loss: 0.1708 - val_categorical_accuracy: 0.7371 - val_loss: 0.7583\n",
      "Epoch 92/130\n",
      "\u001b[1m40/40\u001b[0m \u001b[32m━━━━━━━━━━━━━━━━━━━━\u001b[0m\u001b[37m\u001b[0m \u001b[1m19s\u001b[0m 476ms/step - categorical_accuracy: 0.9427 - loss: 0.1721 - val_categorical_accuracy: 0.7474 - val_loss: 0.7446\n",
      "Epoch 93/130\n",
      "\u001b[1m40/40\u001b[0m \u001b[32m━━━━━━━━━━━━━━━━━━━━\u001b[0m\u001b[37m\u001b[0m \u001b[1m17s\u001b[0m 436ms/step - categorical_accuracy: 0.9485 - loss: 0.1583 - val_categorical_accuracy: 0.7451 - val_loss: 0.7582\n",
      "Epoch 94/130\n",
      "\u001b[1m40/40\u001b[0m \u001b[32m━━━━━━━━━━━━━━━━━━━━\u001b[0m\u001b[37m\u001b[0m \u001b[1m18s\u001b[0m 445ms/step - categorical_accuracy: 0.9441 - loss: 0.1590 - val_categorical_accuracy: 0.7332 - val_loss: 0.7901\n",
      "Epoch 95/130\n",
      "\u001b[1m40/40\u001b[0m \u001b[32m━━━━━━━━━━━━━━━━━━━━\u001b[0m\u001b[37m\u001b[0m \u001b[1m18s\u001b[0m 451ms/step - categorical_accuracy: 0.9488 - loss: 0.1621 - val_categorical_accuracy: 0.7466 - val_loss: 0.7685\n",
      "Epoch 96/130\n",
      "\u001b[1m40/40\u001b[0m \u001b[32m━━━━━━━━━━━━━━━━━━━━\u001b[0m\u001b[37m\u001b[0m \u001b[1m20s\u001b[0m 510ms/step - categorical_accuracy: 0.9428 - loss: 0.1613 - val_categorical_accuracy: 0.7363 - val_loss: 0.7719\n",
      "Epoch 97/130\n",
      "\u001b[1m40/40\u001b[0m \u001b[32m━━━━━━━━━━━━━━━━━━━━\u001b[0m\u001b[37m\u001b[0m \u001b[1m18s\u001b[0m 451ms/step - categorical_accuracy: 0.9467 - loss: 0.1544 - val_categorical_accuracy: 0.7474 - val_loss: 0.7803\n",
      "Epoch 98/130\n",
      "\u001b[1m40/40\u001b[0m \u001b[32m━━━━━━━━━━━━━━━━━━━━\u001b[0m\u001b[37m\u001b[0m \u001b[1m18s\u001b[0m 440ms/step - categorical_accuracy: 0.9545 - loss: 0.1470 - val_categorical_accuracy: 0.7427 - val_loss: 0.7522\n",
      "Epoch 99/130\n",
      "\u001b[1m40/40\u001b[0m \u001b[32m━━━━━━━━━━━━━━━━━━━━\u001b[0m\u001b[37m\u001b[0m \u001b[1m18s\u001b[0m 442ms/step - categorical_accuracy: 0.9541 - loss: 0.1489 - val_categorical_accuracy: 0.7371 - val_loss: 0.7766\n",
      "Epoch 100/130\n",
      "\u001b[1m40/40\u001b[0m \u001b[32m━━━━━━━━━━━━━━━━━━━━\u001b[0m\u001b[37m\u001b[0m \u001b[1m20s\u001b[0m 493ms/step - categorical_accuracy: 0.9537 - loss: 0.1369 - val_categorical_accuracy: 0.7387 - val_loss: 0.7842\n",
      "Epoch 101/130\n",
      "\u001b[1m40/40\u001b[0m \u001b[32m━━━━━━━━━━━━━━━━━━━━\u001b[0m\u001b[37m\u001b[0m \u001b[1m18s\u001b[0m 440ms/step - categorical_accuracy: 0.9590 - loss: 0.1412 - val_categorical_accuracy: 0.7419 - val_loss: 0.7891\n",
      "Epoch 102/130\n",
      "\u001b[1m40/40\u001b[0m \u001b[32m━━━━━━━━━━━━━━━━━━━━\u001b[0m\u001b[37m\u001b[0m \u001b[1m18s\u001b[0m 451ms/step - categorical_accuracy: 0.9488 - loss: 0.1492 - val_categorical_accuracy: 0.7458 - val_loss: 0.7827\n",
      "Epoch 103/130\n",
      "\u001b[1m40/40\u001b[0m \u001b[32m━━━━━━━━━━━━━━━━━━━━\u001b[0m\u001b[37m\u001b[0m \u001b[1m19s\u001b[0m 477ms/step - categorical_accuracy: 0.9585 - loss: 0.1301 - val_categorical_accuracy: 0.7458 - val_loss: 0.7938\n",
      "Epoch 104/130\n",
      "\u001b[1m40/40\u001b[0m \u001b[32m━━━━━━━━━━━━━━━━━━━━\u001b[0m\u001b[37m\u001b[0m \u001b[1m18s\u001b[0m 445ms/step - categorical_accuracy: 0.9586 - loss: 0.1319 - val_categorical_accuracy: 0.7332 - val_loss: 0.7911\n",
      "Epoch 105/130\n",
      "\u001b[1m40/40\u001b[0m \u001b[32m━━━━━━━━━━━━━━━━━━━━\u001b[0m\u001b[37m\u001b[0m \u001b[1m18s\u001b[0m 448ms/step - categorical_accuracy: 0.9600 - loss: 0.1221 - val_categorical_accuracy: 0.7403 - val_loss: 0.8202\n",
      "Epoch 106/130\n",
      "\u001b[1m40/40\u001b[0m \u001b[32m━━━━━━━━━━━━━━━━━━━━\u001b[0m\u001b[37m\u001b[0m \u001b[1m19s\u001b[0m 470ms/step - categorical_accuracy: 0.9585 - loss: 0.1368 - val_categorical_accuracy: 0.7348 - val_loss: 0.7975\n",
      "Epoch 107/130\n",
      "\u001b[1m40/40\u001b[0m \u001b[32m━━━━━━━━━━━━━━━━━━━━\u001b[0m\u001b[37m\u001b[0m \u001b[1m20s\u001b[0m 471ms/step - categorical_accuracy: 0.9587 - loss: 0.1278 - val_categorical_accuracy: 0.7474 - val_loss: 0.7823\n",
      "Epoch 108/130\n",
      "\u001b[1m40/40\u001b[0m \u001b[32m━━━━━━━━━━━━━━━━━━━━\u001b[0m\u001b[37m\u001b[0m \u001b[1m18s\u001b[0m 453ms/step - categorical_accuracy: 0.9617 - loss: 0.1258 - val_categorical_accuracy: 0.7474 - val_loss: 0.7668\n",
      "Epoch 109/130\n",
      "\u001b[1m40/40\u001b[0m \u001b[32m━━━━━━━━━━━━━━━━━━━━\u001b[0m\u001b[37m\u001b[0m \u001b[1m17s\u001b[0m 432ms/step - categorical_accuracy: 0.9607 - loss: 0.1193 - val_categorical_accuracy: 0.7363 - val_loss: 0.7890\n",
      "Epoch 110/130\n",
      "\u001b[1m40/40\u001b[0m \u001b[32m━━━━━━━━━━━━━━━━━━━━\u001b[0m\u001b[37m\u001b[0m \u001b[1m19s\u001b[0m 468ms/step - categorical_accuracy: 0.9654 - loss: 0.1158 - val_categorical_accuracy: 0.7435 - val_loss: 0.8323\n",
      "Epoch 111/130\n",
      "\u001b[1m40/40\u001b[0m \u001b[32m━━━━━━━━━━━━━━━━━━━━\u001b[0m\u001b[37m\u001b[0m \u001b[1m21s\u001b[0m 517ms/step - categorical_accuracy: 0.9621 - loss: 0.1135 - val_categorical_accuracy: 0.7403 - val_loss: 0.8005\n",
      "Epoch 112/130\n",
      "\u001b[1m40/40\u001b[0m \u001b[32m━━━━━━━━━━━━━━━━━━━━\u001b[0m\u001b[37m\u001b[0m \u001b[1m20s\u001b[0m 504ms/step - categorical_accuracy: 0.9667 - loss: 0.1114 - val_categorical_accuracy: 0.7379 - val_loss: 0.8148\n",
      "Epoch 113/130\n",
      "\u001b[1m40/40\u001b[0m \u001b[32m━━━━━━━━━━━━━━━━━━━━\u001b[0m\u001b[37m\u001b[0m \u001b[1m21s\u001b[0m 526ms/step - categorical_accuracy: 0.9666 - loss: 0.1153 - val_categorical_accuracy: 0.7451 - val_loss: 0.8014\n",
      "Epoch 114/130\n",
      "\u001b[1m40/40\u001b[0m \u001b[32m━━━━━━━━━━━━━━━━━━━━\u001b[0m\u001b[37m\u001b[0m \u001b[1m19s\u001b[0m 463ms/step - categorical_accuracy: 0.9607 - loss: 0.1230 - val_categorical_accuracy: 0.7498 - val_loss: 0.7957\n",
      "Epoch 115/130\n",
      "\u001b[1m40/40\u001b[0m \u001b[32m━━━━━━━━━━━━━━━━━━━━\u001b[0m\u001b[37m\u001b[0m \u001b[1m17s\u001b[0m 427ms/step - categorical_accuracy: 0.9722 - loss: 0.1021 - val_categorical_accuracy: 0.7482 - val_loss: 0.8163\n",
      "Epoch 116/130\n",
      "\u001b[1m40/40\u001b[0m \u001b[32m━━━━━━━━━━━━━━━━━━━━\u001b[0m\u001b[37m\u001b[0m \u001b[1m17s\u001b[0m 425ms/step - categorical_accuracy: 0.9649 - loss: 0.1167 - val_categorical_accuracy: 0.7466 - val_loss: 0.8004\n",
      "Epoch 117/130\n",
      "\u001b[1m40/40\u001b[0m \u001b[32m━━━━━━━━━━━━━━━━━━━━\u001b[0m\u001b[37m\u001b[0m \u001b[1m18s\u001b[0m 437ms/step - categorical_accuracy: 0.9719 - loss: 0.1025 - val_categorical_accuracy: 0.7403 - val_loss: 0.8052\n",
      "Epoch 118/130\n",
      "\u001b[1m40/40\u001b[0m \u001b[32m━━━━━━━━━━━━━━━━━━━━\u001b[0m\u001b[37m\u001b[0m \u001b[1m17s\u001b[0m 428ms/step - categorical_accuracy: 0.9740 - loss: 0.0968 - val_categorical_accuracy: 0.7474 - val_loss: 0.8265\n",
      "Epoch 119/130\n",
      "\u001b[1m40/40\u001b[0m \u001b[32m━━━━━━━━━━━━━━━━━━━━\u001b[0m\u001b[37m\u001b[0m \u001b[1m21s\u001b[0m 513ms/step - categorical_accuracy: 0.9723 - loss: 0.0967 - val_categorical_accuracy: 0.7443 - val_loss: 0.8093\n",
      "Epoch 120/130\n",
      "\u001b[1m40/40\u001b[0m \u001b[32m━━━━━━━━━━━━━━━━━━━━\u001b[0m\u001b[37m\u001b[0m \u001b[1m21s\u001b[0m 512ms/step - categorical_accuracy: 0.9776 - loss: 0.0933 - val_categorical_accuracy: 0.7435 - val_loss: 0.7990\n",
      "Epoch 121/130\n",
      "\u001b[1m40/40\u001b[0m \u001b[32m━━━━━━━━━━━━━━━━━━━━\u001b[0m\u001b[37m\u001b[0m \u001b[1m17s\u001b[0m 429ms/step - categorical_accuracy: 0.9755 - loss: 0.0916 - val_categorical_accuracy: 0.7387 - val_loss: 0.8262\n",
      "Epoch 122/130\n",
      "\u001b[1m40/40\u001b[0m \u001b[32m━━━━━━━━━━━━━━━━━━━━\u001b[0m\u001b[37m\u001b[0m \u001b[1m17s\u001b[0m 420ms/step - categorical_accuracy: 0.9763 - loss: 0.0943 - val_categorical_accuracy: 0.7474 - val_loss: 0.8309\n",
      "Epoch 123/130\n",
      "\u001b[1m40/40\u001b[0m \u001b[32m━━━━━━━━━━━━━━━━━━━━\u001b[0m\u001b[37m\u001b[0m \u001b[1m16s\u001b[0m 409ms/step - categorical_accuracy: 0.9783 - loss: 0.0914 - val_categorical_accuracy: 0.7395 - val_loss: 0.8437\n",
      "Epoch 124/130\n",
      "\u001b[1m40/40\u001b[0m \u001b[32m━━━━━━━━━━━━━━━━━━━━\u001b[0m\u001b[37m\u001b[0m \u001b[1m18s\u001b[0m 453ms/step - categorical_accuracy: 0.9801 - loss: 0.0817 - val_categorical_accuracy: 0.7387 - val_loss: 0.8547\n",
      "Epoch 125/130\n",
      "\u001b[1m40/40\u001b[0m \u001b[32m━━━━━━━━━━━━━━━━━━━━\u001b[0m\u001b[37m\u001b[0m \u001b[1m17s\u001b[0m 436ms/step - categorical_accuracy: 0.9729 - loss: 0.0914 - val_categorical_accuracy: 0.7332 - val_loss: 0.8489\n",
      "Epoch 126/130\n",
      "\u001b[1m40/40\u001b[0m \u001b[32m━━━━━━━━━━━━━━━━━━━━\u001b[0m\u001b[37m\u001b[0m \u001b[1m17s\u001b[0m 422ms/step - categorical_accuracy: 0.9769 - loss: 0.0850 - val_categorical_accuracy: 0.7403 - val_loss: 0.8317\n",
      "Epoch 127/130\n",
      "\u001b[1m40/40\u001b[0m \u001b[32m━━━━━━━━━━━━━━━━━━━━\u001b[0m\u001b[37m\u001b[0m \u001b[1m20s\u001b[0m 414ms/step - categorical_accuracy: 0.9768 - loss: 0.0821 - val_categorical_accuracy: 0.7427 - val_loss: 0.8356\n",
      "Epoch 128/130\n",
      "\u001b[1m40/40\u001b[0m \u001b[32m━━━━━━━━━━━━━━━━━━━━\u001b[0m\u001b[37m\u001b[0m \u001b[1m18s\u001b[0m 449ms/step - categorical_accuracy: 0.9776 - loss: 0.0798 - val_categorical_accuracy: 0.7522 - val_loss: 0.8420\n",
      "Epoch 129/130\n",
      "\u001b[1m40/40\u001b[0m \u001b[32m━━━━━━━━━━━━━━━━━━━━\u001b[0m\u001b[37m\u001b[0m \u001b[1m17s\u001b[0m 416ms/step - categorical_accuracy: 0.9750 - loss: 0.0819 - val_categorical_accuracy: 0.7427 - val_loss: 0.8879\n",
      "Epoch 130/130\n",
      "\u001b[1m40/40\u001b[0m \u001b[32m━━━━━━━━━━━━━━━━━━━━\u001b[0m\u001b[37m\u001b[0m \u001b[1m18s\u001b[0m 446ms/step - categorical_accuracy: 0.9783 - loss: 0.0852 - val_categorical_accuracy: 0.7324 - val_loss: 0.8438\n"
     ]
    },
    {
     "data": {
      "text/plain": [
       "<keras.src.callbacks.history.History at 0x1f4acfdfd00>"
      ]
     },
     "execution_count": 47,
     "metadata": {},
     "output_type": "execute_result"
    }
   ],
   "source": [
    "model.fit(X_train, y_train, epochs=200,batch_size=128, validation_data= (X_test, y_test))"
   ]
  },
  {
   "cell_type": "code",
   "execution_count": 48,
   "metadata": {},
   "outputs": [
    {
     "name": "stderr",
     "output_type": "stream",
     "text": [
      "No artists with labels found to put in legend.  Note that artists whose label start with an underscore are ignored when legend() is called with no argument.\n"
     ]
    },
    {
     "data": {
      "text/plain": [
       "<matplotlib.legend.Legend at 0x1f4ab832b50>"
      ]
     },
     "execution_count": 48,
     "metadata": {},
     "output_type": "execute_result"
    },
    {
     "data": {
      "image/png": "[encoded data removed]",
      "text/plain": [
       "<Figure size 432x288 with 1 Axes>"
      ]
     },
     "metadata": {
      "needs_background": "light"
     },
     "output_type": "display_data"
    }
   ],
   "source": [
    "plt.plot(model.history.history['categorical_accuracy'])\n",
    "plt.xlabel('Epoch')\n",
    "plt.ylabel('Accuracy')\n",
    "plt.legend(loc='lower right')"
   ]
  },
  {
   "cell_type": "code",
   "execution_count": 49,
   "metadata": {},
   "outputs": [
    {
     "name": "stderr",
     "output_type": "stream",
     "text": [
      "No artists with labels found to put in legend.  Note that artists whose label start with an underscore are ignored when legend() is called with no argument.\n"
     ]
    },
    {
     "data": {
      "text/plain": [
       "<matplotlib.legend.Legend at 0x1f4ab832070>"
      ]
     },
     "execution_count": 49,
     "metadata": {},
     "output_type": "execute_result"
    },
    {
     "data": {
      "image/png": "[encoded data removed]",
      "text/plain": [
       "<Figure size 432x288 with 1 Axes>"
      ]
     },
     "metadata": {
      "needs_background": "light"
     },
     "output_type": "display_data"
    }
   ],
   "source": [
    "plt.plot(model.history.history['loss'], )\n",
    "plt.xlabel('Epoch')\n",
    "plt.ylabel('Loss')\n",
    "plt.legend(loc='lower right')"
   ]
  },
  {
   "cell_type": "markdown",
   "metadata": {},
   "source": [
    "5. Evaluar modelo"
   ]
  },
  {
   "cell_type": "code",
   "execution_count": 50,
   "metadata": {},
   "outputs": [
    {
     "name": "stdout",
     "output_type": "stream",
     "text": [
      "\u001b[1m10/10\u001b[0m \u001b[32m━━━━━━━━━━━━━━━━━━━━\u001b[0m\u001b[37m\u001b[0m \u001b[1m2s\u001b[0m 140ms/step\n"
     ]
    }
   ],
   "source": [
    "predictions = model.predict(X_test,batch_size=128)\n",
    "decoded_y_test = y_test.argmax(axis=1)\n",
    "decoded_predictions = predictions.argmax(axis=1)"
   ]
  },
  {
   "cell_type": "code",
   "execution_count": 52,
   "metadata": {},
   "outputs": [
    {
     "name": "stdout",
     "output_type": "stream",
     "text": [
      "              precision    recall  f1-score   support\n",
      "\n",
      "           0       0.73      0.96      0.83       180\n",
      "           1       0.93      0.80      0.86       181\n",
      "           2       0.66      0.42      0.51       181\n",
      "           3       0.40      0.41      0.40       180\n",
      "           4       0.64      0.71      0.67       180\n",
      "           5       0.84      0.93      0.88       181\n",
      "           6       0.95      0.91      0.93       180\n",
      "\n",
      "    accuracy                           0.73      1263\n",
      "   macro avg       0.73      0.73      0.73      1263\n",
      "weighted avg       0.74      0.73      0.73      1263\n",
      "\n"
     ]
    }
   ],
   "source": [
    "print(metrics_skl.classification_report(decoded_y_test,decoded_predictions))"
   ]
  },
  {
   "cell_type": "code",
   "execution_count": 53,
   "metadata": {},
   "outputs": [
    {
     "data": {
      "image/png": "[encoded data removed]",
      "text/plain": [
       "<Figure size 432x288 with 2 Axes>"
      ]
     },
     "metadata": {
      "needs_background": "light"
     },
     "output_type": "display_data"
    }
   ],
   "source": [
    "matrix = metrics_skl.confusion_matrix(decoded_y_test,decoded_predictions)\n",
    "cm_dispaly = metrics_skl.ConfusionMatrixDisplay(matrix)\n",
    "cm_dispaly.plot()\n",
    "plt.show()"
   ]
  }
 ],
 "metadata": {
  "kernelspec": {
   "display_name": "Python 3",
   "language": "python",
   "name": "python3"
  },
  "language_info": {
   "codemirror_mode": {
    "name": "ipython",
    "version": 3
   },
   "file_extension": ".py",
   "mimetype": "text/x-python",
   "name": "python",
   "nbconvert_exporter": "python",
   "pygments_lexer": "ipython3",
   "version": "3.9.6"
  }
 },
 "nbformat": 4,
 "nbformat_minor": 2
}
