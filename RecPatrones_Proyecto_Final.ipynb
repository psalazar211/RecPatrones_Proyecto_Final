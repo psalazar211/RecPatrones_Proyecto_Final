{
 "cells": [
  {
   "cell_type": "markdown",
   "metadata": {},
   "source": [
    "# Proyecto Final del curso de Reconocimiento de Patrones\n",
    "### Maestría en Electrónica del TEC\n",
    "### Autor: Pamela Salazar Espinoza\n",
    "\n",
    "Este cuaderno corresponde al proyecto del curso de reconocimiento de patrones del TEC. El reconocimiento de voz o reconocimiento del habla es una rama de la inteligencia artificial cuya finalidad es posibilitar la comunicación entre humanos y sistemas informáticos. Un sistema de reconocimiento de voz tiene la capacidad de detectar y entender las palabras que un ser humano emite de forma natural. En un esfuerzo por entrenar estos sistemas se han creado diferentes bases de datos en distintos idiomas, con diferentes de acentos por ejemplo la enconteada en: \n",
    "\n",
    "https://commonvoice.mozilla.org/es/datasets\n",
    "\n",
    "El objetivo de este proyecto es entrenar una red neuronal para reconocer algunas palabras dichas utilizando el acento costarricense. Para ello se uso los siguientes audios:\n",
    "\n",
    "https://www.youtube.com/watch?v=SipemIJjg-E\n",
    "\n",
    "Para recortar el audio en palabras se uso la herramienta:\n",
    "\n",
    "https://mp3cut.net/es/"
   ]
  },
  {
   "cell_type": "code",
   "execution_count": 1,
   "metadata": {},
   "outputs": [
    {
     "name": "stderr",
     "output_type": "stream",
     "text": [
      "C:\\Users\\psalazar\\AppData\\Roaming\\Python\\Python39\\site-packages\\scipy\\__init__.py:138: UserWarning: A NumPy version >=1.16.5 and <1.23.0 is required for this version of SciPy (detected version 1.23.1)\n",
      "  warnings.warn(f\"A NumPy version >={np_minversion} and <{np_maxversion} is required for this version of \"\n"
     ]
    }
   ],
   "source": [
    "##Importar librerias necesarias\n",
    "\n",
    "import os\n",
    "import pandas as pd\n",
    "import numpy as np\n",
    "import random\n",
    "import pickle\n",
    "import seaborn as sns\n",
    "import librosa\n",
    "import pickle\n",
    "import matplotlib.pyplot as plt\n",
    "import librosa.display\n",
    "from tensorflow.keras import datasets, layers, models\n",
    "from keras.models import Sequential\n",
    "from keras.layers import Dense, Dropout, Activation, Flatten\n",
    "from keras.layers import Convolution2D, Conv2D, MaxPool2D, GlobalAveragePooling2D\n",
    "from keras.optimizers import Adam\n",
    "import  np_utils\n",
    "from tensorflow.keras  import metrics \n",
    "from keras.losses import CategoricalCrossentropy\n",
    "from sklearn import model_selection"
   ]
  },
  {
   "cell_type": "markdown",
   "metadata": {},
   "source": [
    "### 1. Limpieza de datos"
   ]
  },
  {
   "cell_type": "markdown",
   "metadata": {},
   "source": [
    "1. Crear una tabla de los archivos con sus respectivas carpetas"
   ]
  },
  {
   "cell_type": "code",
   "execution_count": 2,
   "metadata": {},
   "outputs": [
    {
     "data": {
      "text/html": [
       "<div>\n",
       "<style scoped>\n",
       "    .dataframe tbody tr th:only-of-type {\n",
       "        vertical-align: middle;\n",
       "    }\n",
       "\n",
       "    .dataframe tbody tr th {\n",
       "        vertical-align: top;\n",
       "    }\n",
       "\n",
       "    .dataframe thead th {\n",
       "        text-align: right;\n",
       "    }\n",
       "</style>\n",
       "<table border=\"1\" class=\"dataframe\">\n",
       "  <thead>\n",
       "    <tr style=\"text-align: right;\">\n",
       "      <th></th>\n",
       "      <th>Carpeta</th>\n",
       "      <th>Archivos</th>\n",
       "    </tr>\n",
       "  </thead>\n",
       "  <tbody>\n",
       "    <tr>\n",
       "      <th>0</th>\n",
       "      <td>acompanarlo</td>\n",
       "      <td>acompanarlo1.m4a</td>\n",
       "    </tr>\n",
       "    <tr>\n",
       "      <th>1</th>\n",
       "      <td>actividades</td>\n",
       "      <td>audio1 (mp3cut.net) - 2024-03-28T130319.780.m4a</td>\n",
       "    </tr>\n",
       "    <tr>\n",
       "      <th>2</th>\n",
       "      <td>adecuada</td>\n",
       "      <td>adecuada1.m4a</td>\n",
       "    </tr>\n",
       "    <tr>\n",
       "      <th>3</th>\n",
       "      <td>ambiente</td>\n",
       "      <td>audio1 (mp3cut.net) (76).m4a</td>\n",
       "    </tr>\n",
       "    <tr>\n",
       "      <th>4</th>\n",
       "      <td>aqui</td>\n",
       "      <td>aqui1.m4a</td>\n",
       "    </tr>\n",
       "    <tr>\n",
       "      <th>...</th>\n",
       "      <td>...</td>\n",
       "      <td>...</td>\n",
       "    </tr>\n",
       "    <tr>\n",
       "      <th>349</th>\n",
       "      <td>vecinos</td>\n",
       "      <td>audio1 (mp3cut.net) (93).m4a</td>\n",
       "    </tr>\n",
       "    <tr>\n",
       "      <th>350</th>\n",
       "      <td>vecinos</td>\n",
       "      <td>audio1 (mp3cut.net) - 2024-03-28T130351.337.m4a</td>\n",
       "    </tr>\n",
       "    <tr>\n",
       "      <th>351</th>\n",
       "      <td>vehiculos</td>\n",
       "      <td>audio1 (mp3cut.net) (89).m4a</td>\n",
       "    </tr>\n",
       "    <tr>\n",
       "      <th>352</th>\n",
       "      <td>vida</td>\n",
       "      <td>vida1.m4a</td>\n",
       "    </tr>\n",
       "    <tr>\n",
       "      <th>353</th>\n",
       "      <td>vida</td>\n",
       "      <td>vida2.m4a</td>\n",
       "    </tr>\n",
       "  </tbody>\n",
       "</table>\n",
       "<p>354 rows × 2 columns</p>\n",
       "</div>"
      ],
      "text/plain": [
       "         Carpeta                                         Archivos\n",
       "0    acompanarlo                                 acompanarlo1.m4a\n",
       "1    actividades  audio1 (mp3cut.net) - 2024-03-28T130319.780.m4a\n",
       "2       adecuada                                    adecuada1.m4a\n",
       "3       ambiente                     audio1 (mp3cut.net) (76).m4a\n",
       "4           aqui                                        aqui1.m4a\n",
       "..           ...                                              ...\n",
       "349      vecinos                     audio1 (mp3cut.net) (93).m4a\n",
       "350      vecinos  audio1 (mp3cut.net) - 2024-03-28T130351.337.m4a\n",
       "351    vehiculos                     audio1 (mp3cut.net) (89).m4a\n",
       "352         vida                                        vida1.m4a\n",
       "353         vida                                        vida2.m4a\n",
       "\n",
       "[354 rows x 2 columns]"
      ]
     },
     "execution_count": 2,
     "metadata": {},
     "output_type": "execute_result"
    }
   ],
   "source": [
    "contenido = os.listdir('.\\dataset\\palabras')\n",
    "archvos_list = []\n",
    "carpeta_list = []\n",
    "carpeta_list1 = []\n",
    "for carpeta in contenido:\n",
    "    archivos = os.listdir('.\\dataset\\palabras\\\\' + carpeta)\n",
    "    carpeta_list1.append(carpeta)\n",
    "    for archivo in archivos:\n",
    "        archvos_list.append(archivo)\n",
    "        carpeta_list.append(carpeta)\n",
    "\n",
    "df = pd.DataFrame()\n",
    "df['Carpeta']  = carpeta_list\n",
    "df['Archivos'] = archvos_list \n",
    "df"
   ]
  },
  {
   "cell_type": "markdown",
   "metadata": {},
   "source": [
    "2. Clasificar las muestras."
   ]
  },
  {
   "cell_type": "code",
   "execution_count": 3,
   "metadata": {},
   "outputs": [
    {
     "data": {
      "text/html": [
       "<div>\n",
       "<style scoped>\n",
       "    .dataframe tbody tr th:only-of-type {\n",
       "        vertical-align: middle;\n",
       "    }\n",
       "\n",
       "    .dataframe tbody tr th {\n",
       "        vertical-align: top;\n",
       "    }\n",
       "\n",
       "    .dataframe thead th {\n",
       "        text-align: right;\n",
       "    }\n",
       "</style>\n",
       "<table border=\"1\" class=\"dataframe\">\n",
       "  <thead>\n",
       "    <tr style=\"text-align: right;\">\n",
       "      <th></th>\n",
       "      <th>Carpeta</th>\n",
       "      <th>Archivos</th>\n",
       "      <th>Clase</th>\n",
       "      <th>Clase ID</th>\n",
       "    </tr>\n",
       "  </thead>\n",
       "  <tbody>\n",
       "    <tr>\n",
       "      <th>20</th>\n",
       "      <td>cancer</td>\n",
       "      <td>cancer1.mp3</td>\n",
       "      <td>cancer</td>\n",
       "      <td>0</td>\n",
       "    </tr>\n",
       "    <tr>\n",
       "      <th>21</th>\n",
       "      <td>cancer</td>\n",
       "      <td>cancer10.mp3</td>\n",
       "      <td>cancer</td>\n",
       "      <td>0</td>\n",
       "    </tr>\n",
       "    <tr>\n",
       "      <th>22</th>\n",
       "      <td>cancer</td>\n",
       "      <td>cancer11.mp3</td>\n",
       "      <td>cancer</td>\n",
       "      <td>0</td>\n",
       "    </tr>\n",
       "    <tr>\n",
       "      <th>23</th>\n",
       "      <td>cancer</td>\n",
       "      <td>cancer12.mp3</td>\n",
       "      <td>cancer</td>\n",
       "      <td>0</td>\n",
       "    </tr>\n",
       "    <tr>\n",
       "      <th>24</th>\n",
       "      <td>cancer</td>\n",
       "      <td>cancer13.mp3</td>\n",
       "      <td>cancer</td>\n",
       "      <td>0</td>\n",
       "    </tr>\n",
       "    <tr>\n",
       "      <th>...</th>\n",
       "      <td>...</td>\n",
       "      <td>...</td>\n",
       "      <td>...</td>\n",
       "      <td>...</td>\n",
       "    </tr>\n",
       "    <tr>\n",
       "      <th>324</th>\n",
       "      <td>tiempo</td>\n",
       "      <td>tiempo5.mp3</td>\n",
       "      <td>tiempo</td>\n",
       "      <td>1</td>\n",
       "    </tr>\n",
       "    <tr>\n",
       "      <th>325</th>\n",
       "      <td>tiempo</td>\n",
       "      <td>tiempo6.mp3</td>\n",
       "      <td>tiempo</td>\n",
       "      <td>1</td>\n",
       "    </tr>\n",
       "    <tr>\n",
       "      <th>326</th>\n",
       "      <td>tiempo</td>\n",
       "      <td>tiempo7.mp3</td>\n",
       "      <td>tiempo</td>\n",
       "      <td>1</td>\n",
       "    </tr>\n",
       "    <tr>\n",
       "      <th>327</th>\n",
       "      <td>tiempo</td>\n",
       "      <td>tiempo8.mp3</td>\n",
       "      <td>tiempo</td>\n",
       "      <td>1</td>\n",
       "    </tr>\n",
       "    <tr>\n",
       "      <th>328</th>\n",
       "      <td>tiempo</td>\n",
       "      <td>tiempo9.mp3</td>\n",
       "      <td>tiempo</td>\n",
       "      <td>1</td>\n",
       "    </tr>\n",
       "  </tbody>\n",
       "</table>\n",
       "<p>91 rows × 4 columns</p>\n",
       "</div>"
      ],
      "text/plain": [
       "    Carpeta      Archivos   Clase  Clase ID\n",
       "20   cancer   cancer1.mp3  cancer         0\n",
       "21   cancer  cancer10.mp3  cancer         0\n",
       "22   cancer  cancer11.mp3  cancer         0\n",
       "23   cancer  cancer12.mp3  cancer         0\n",
       "24   cancer  cancer13.mp3  cancer         0\n",
       "..      ...           ...     ...       ...\n",
       "324  tiempo   tiempo5.mp3  tiempo         1\n",
       "325  tiempo   tiempo6.mp3  tiempo         1\n",
       "326  tiempo   tiempo7.mp3  tiempo         1\n",
       "327  tiempo   tiempo8.mp3  tiempo         1\n",
       "328  tiempo   tiempo9.mp3  tiempo         1\n",
       "\n",
       "[91 rows x 4 columns]"
      ]
     },
     "execution_count": 3,
     "metadata": {},
     "output_type": "execute_result"
    }
   ],
   "source": [
    "clases_list = []\n",
    "clasesID_list = []\n",
    "for carpeta in df['Carpeta']:\n",
    "    if carpeta == 'cancer':\n",
    "        clase = 'cancer'\n",
    "        id = 0\n",
    "    elif carpeta == 'tiempo':\n",
    "        clase = 'tiempo'\n",
    "        id = 1\n",
    "    elif carpeta == 'diagnostico':\n",
    "        clase = 'diagnostico'\n",
    "        id = 2\n",
    "    elif carpeta == 'pacientes':\n",
    "        clase = 'pacientes'\n",
    "        id = 3\n",
    "    else:\n",
    "        clase = 'desconocido'\n",
    "        id = 4\n",
    "    clases_list.append(clase)\n",
    "    clasesID_list.append(id)\n",
    "df['Clase'] = clases_list\n",
    "df['Clase ID'] = clasesID_list\n",
    "\n",
    "df.drop(df[(df['Clase'] == 'desconocido')].index, inplace=True)\n",
    "df"
   ]
  },
  {
   "cell_type": "markdown",
   "metadata": {},
   "source": [
    "3. Dividir datos de entrenamineto y validacion."
   ]
  },
  {
   "cell_type": "code",
   "execution_count": 4,
   "metadata": {},
   "outputs": [],
   "source": [
    "from sklearn.model_selection import train_test_split"
   ]
  },
  {
   "cell_type": "markdown",
   "metadata": {},
   "source": [
    "Usar el 20% de os datos de clase \"cancer\" para validacion"
   ]
  },
  {
   "cell_type": "code",
   "execution_count": 5,
   "metadata": {},
   "outputs": [],
   "source": [
    "df1 = df[df['Clase']=='cancer'].reset_index()\n",
    "df1 = df1.drop(['index'],axis=1)\n",
    "train_cancer, test_cancer = train_test_split(df1, test_size = 0.20, shuffle = False)"
   ]
  },
  {
   "cell_type": "markdown",
   "metadata": {},
   "source": [
    "Usar el 20% de os datos de clase \"diagnostico\" para validacion"
   ]
  },
  {
   "cell_type": "code",
   "execution_count": 6,
   "metadata": {},
   "outputs": [],
   "source": [
    "df1 = df[df['Clase']=='diagnostico'].reset_index()\n",
    "df1 = df1.drop(['index'],axis=1)\n",
    "train_diagnostico, test_diagnostico = train_test_split(df1, test_size = 0.20, shuffle = False)"
   ]
  },
  {
   "cell_type": "markdown",
   "metadata": {},
   "source": [
    "Usar el 20% de os datos de clase \"pacientes\" para validacion"
   ]
  },
  {
   "cell_type": "code",
   "execution_count": 7,
   "metadata": {},
   "outputs": [],
   "source": [
    "df1 = df[df['Clase']=='pacientes'].reset_index()\n",
    "df1 = df1.drop(['index'],axis=1)\n",
    "train_pacientes, test_pacientes = train_test_split(df1, test_size = 0.20, shuffle = False)"
   ]
  },
  {
   "cell_type": "markdown",
   "metadata": {},
   "source": [
    "Usar el 20% de los datos de clase \"tiempo\" para validacion"
   ]
  },
  {
   "cell_type": "code",
   "execution_count": 8,
   "metadata": {},
   "outputs": [],
   "source": [
    "df1 = df[df['Clase']=='tiempo'].reset_index()\n",
    "df1 = df1.drop(['index'],axis=1)\n",
    "train_tiempo, test_tiempo = train_test_split(df1, test_size = 0.20, shuffle = False)"
   ]
  },
  {
   "cell_type": "markdown",
   "metadata": {},
   "source": [
    "Crear dataset de entrenamiento"
   ]
  },
  {
   "cell_type": "code",
   "execution_count": 9,
   "metadata": {},
   "outputs": [],
   "source": [
    "train = pd.concat([train_cancer, train_diagnostico,train_pacientes,train_tiempo], axis=0)\n",
    "train['Group'] = 'Train'"
   ]
  },
  {
   "cell_type": "markdown",
   "metadata": {},
   "source": [
    "Crear dataset de prueba"
   ]
  },
  {
   "cell_type": "code",
   "execution_count": 10,
   "metadata": {},
   "outputs": [],
   "source": [
    "test = pd.concat([test_cancer, test_diagnostico,test_pacientes,test_tiempo], axis=0)\n",
    "test['Group'] = 'Test'"
   ]
  },
  {
   "cell_type": "markdown",
   "metadata": {},
   "source": [
    "Visualizar datos entrenamiento y datos de prueba"
   ]
  },
  {
   "cell_type": "code",
   "execution_count": 11,
   "metadata": {},
   "outputs": [
    {
     "data": {
      "text/html": [
       "<div>\n",
       "<style scoped>\n",
       "    .dataframe tbody tr th:only-of-type {\n",
       "        vertical-align: middle;\n",
       "    }\n",
       "\n",
       "    .dataframe tbody tr th {\n",
       "        vertical-align: top;\n",
       "    }\n",
       "\n",
       "    .dataframe thead th {\n",
       "        text-align: right;\n",
       "    }\n",
       "</style>\n",
       "<table border=\"1\" class=\"dataframe\">\n",
       "  <thead>\n",
       "    <tr style=\"text-align: right;\">\n",
       "      <th></th>\n",
       "      <th>Carpeta</th>\n",
       "      <th>Archivos</th>\n",
       "      <th>Clase</th>\n",
       "      <th>Clase ID</th>\n",
       "      <th>Group</th>\n",
       "    </tr>\n",
       "  </thead>\n",
       "  <tbody>\n",
       "    <tr>\n",
       "      <th>0</th>\n",
       "      <td>cancer</td>\n",
       "      <td>cancer1.mp3</td>\n",
       "      <td>cancer</td>\n",
       "      <td>0</td>\n",
       "      <td>Train</td>\n",
       "    </tr>\n",
       "    <tr>\n",
       "      <th>1</th>\n",
       "      <td>cancer</td>\n",
       "      <td>cancer10.mp3</td>\n",
       "      <td>cancer</td>\n",
       "      <td>0</td>\n",
       "      <td>Train</td>\n",
       "    </tr>\n",
       "    <tr>\n",
       "      <th>2</th>\n",
       "      <td>cancer</td>\n",
       "      <td>cancer11.mp3</td>\n",
       "      <td>cancer</td>\n",
       "      <td>0</td>\n",
       "      <td>Train</td>\n",
       "    </tr>\n",
       "    <tr>\n",
       "      <th>3</th>\n",
       "      <td>cancer</td>\n",
       "      <td>cancer12.mp3</td>\n",
       "      <td>cancer</td>\n",
       "      <td>0</td>\n",
       "      <td>Train</td>\n",
       "    </tr>\n",
       "    <tr>\n",
       "      <th>4</th>\n",
       "      <td>cancer</td>\n",
       "      <td>cancer13.mp3</td>\n",
       "      <td>cancer</td>\n",
       "      <td>0</td>\n",
       "      <td>Train</td>\n",
       "    </tr>\n",
       "    <tr>\n",
       "      <th>...</th>\n",
       "      <td>...</td>\n",
       "      <td>...</td>\n",
       "      <td>...</td>\n",
       "      <td>...</td>\n",
       "      <td>...</td>\n",
       "    </tr>\n",
       "    <tr>\n",
       "      <th>86</th>\n",
       "      <td>tiempo</td>\n",
       "      <td>tiempo5.mp3</td>\n",
       "      <td>tiempo</td>\n",
       "      <td>1</td>\n",
       "      <td>Test</td>\n",
       "    </tr>\n",
       "    <tr>\n",
       "      <th>87</th>\n",
       "      <td>tiempo</td>\n",
       "      <td>tiempo6.mp3</td>\n",
       "      <td>tiempo</td>\n",
       "      <td>1</td>\n",
       "      <td>Test</td>\n",
       "    </tr>\n",
       "    <tr>\n",
       "      <th>88</th>\n",
       "      <td>tiempo</td>\n",
       "      <td>tiempo7.mp3</td>\n",
       "      <td>tiempo</td>\n",
       "      <td>1</td>\n",
       "      <td>Test</td>\n",
       "    </tr>\n",
       "    <tr>\n",
       "      <th>89</th>\n",
       "      <td>tiempo</td>\n",
       "      <td>tiempo8.mp3</td>\n",
       "      <td>tiempo</td>\n",
       "      <td>1</td>\n",
       "      <td>Test</td>\n",
       "    </tr>\n",
       "    <tr>\n",
       "      <th>90</th>\n",
       "      <td>tiempo</td>\n",
       "      <td>tiempo9.mp3</td>\n",
       "      <td>tiempo</td>\n",
       "      <td>1</td>\n",
       "      <td>Test</td>\n",
       "    </tr>\n",
       "  </tbody>\n",
       "</table>\n",
       "<p>91 rows × 5 columns</p>\n",
       "</div>"
      ],
      "text/plain": [
       "   Carpeta      Archivos   Clase  Clase ID  Group\n",
       "0   cancer   cancer1.mp3  cancer         0  Train\n",
       "1   cancer  cancer10.mp3  cancer         0  Train\n",
       "2   cancer  cancer11.mp3  cancer         0  Train\n",
       "3   cancer  cancer12.mp3  cancer         0  Train\n",
       "4   cancer  cancer13.mp3  cancer         0  Train\n",
       "..     ...           ...     ...       ...    ...\n",
       "86  tiempo   tiempo5.mp3  tiempo         1   Test\n",
       "87  tiempo   tiempo6.mp3  tiempo         1   Test\n",
       "88  tiempo   tiempo7.mp3  tiempo         1   Test\n",
       "89  tiempo   tiempo8.mp3  tiempo         1   Test\n",
       "90  tiempo   tiempo9.mp3  tiempo         1   Test\n",
       "\n",
       "[91 rows x 5 columns]"
      ]
     },
     "execution_count": 11,
     "metadata": {},
     "output_type": "execute_result"
    }
   ],
   "source": [
    "df = pd.concat([train,test], axis=0).reset_index()\n",
    "df = df.drop(['index'],axis=1)\n",
    "df"
   ]
  },
  {
   "cell_type": "code",
   "execution_count": 12,
   "metadata": {},
   "outputs": [
    {
     "data": {
      "text/plain": [
       "<seaborn.axisgrid.FacetGrid at 0x227ee746040>"
      ]
     },
     "execution_count": 12,
     "metadata": {},
     "output_type": "execute_result"
    },
    {
     "data": {
      "image/png": "[encoded data removed]",
      "text/plain": [
       "<Figure size 420x360 with 1 Axes>"
      ]
     },
     "metadata": {
      "needs_background": "light"
     },
     "output_type": "display_data"
    }
   ],
   "source": [
    "sns.catplot(data=df,kind='count',x='Clase',hue='Group')"
   ]
  },
  {
   "cell_type": "markdown",
   "metadata": {},
   "source": [
    "3. Crear espectogramas\n",
    "Nota, para crear los espectogramas hay que cambiar el formato del archivo a mp3."
   ]
  },
  {
   "cell_type": "code",
   "execution_count": 13,
   "metadata": {},
   "outputs": [],
   "source": [
    "def spectogram (audio_file):\n",
    "    fs = 16000\n",
    "    y, sr = librosa.load(audio_file, sr = 16000)\n",
    "    if len(y) < fs:\n",
    "       y = np.concatenate((y,np.zeros((fs-len(y)),dtype='int')))\n",
    "    elif len(y) > fs:\n",
    "        y = y[:fs]\n",
    "    S = librosa.feature.melspectrogram(y=y, sr=fs, n_mels=40,n_fft =  25*fs//1000, win_length = 25*fs//1000, hop_length = 10*fs//1000, center=True,\n",
    "        power=2)\n",
    "    S_dB = librosa.power_to_db(S, ref=np.max)\n",
    "    return S_dB"
   ]
  },
  {
   "cell_type": "markdown",
   "metadata": {},
   "source": [
    "En la siguiente celda se guarda el espectograma de cada archivo de audio en un archivo dentro de la carpeta 'espectogramas'. "
   ]
  },
  {
   "cell_type": "code",
   "execution_count": 14,
   "metadata": {},
   "outputs": [
    {
     "name": "stderr",
     "output_type": "stream",
     "text": [
      "c:\\Users\\psalazar\\.pyenv\\pyenv-win\\versions\\3.9.6\\lib\\site-packages\\librosa\\util\\decorators.py:88: UserWarning: PySoundFile failed. Trying audioread instead.\n",
      "  return f(*args, **kwargs)\n"
     ]
    }
   ],
   "source": [
    "for i in range(len(df['Archivos'])):\n",
    "    file = df['Archivos'][i]\n",
    "    carpeta = df['Carpeta'][i]\n",
    "    path_audio = 'dataset\\palabras\\\\' + carpeta +  '\\\\' + file\n",
    "    name, extension = file.split('.')\n",
    "    file_name = carpeta +  '_' +  name + '.pickle'\n",
    "    S_dB = spectogram (path_audio)   \n",
    "    path = 'espectogramas/'+ file_name\n",
    "    with open(path, \"wb\") as f:\n",
    "        pickle.dump(S_dB, f)"
   ]
  },
  {
   "cell_type": "markdown",
   "metadata": {},
   "source": [
    "4. Entrenar la red neuronal."
   ]
  },
  {
   "cell_type": "code",
   "execution_count": null,
   "metadata": {},
   "outputs": [],
   "source": []
  }
 ],
 "metadata": {
  "kernelspec": {
   "display_name": "Python 3",
   "language": "python",
   "name": "python3"
  },
  "language_info": {
   "codemirror_mode": {
    "name": "ipython",
    "version": 3
   },
   "file_extension": ".py",
   "mimetype": "text/x-python",
   "name": "python",
   "nbconvert_exporter": "python",
   "pygments_lexer": "ipython3",
   "version": "3.9.6"
  }
 },
 "nbformat": 4,
 "nbformat_minor": 2
}
