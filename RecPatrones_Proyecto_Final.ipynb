{
 "cells": [
  {
   "cell_type": "markdown",
   "metadata": {},
   "source": [
    "# Proyecto Final del curso de Reconocimiento de Patrones\n",
    "### Maestría en Electrónica del TEC\n",
    "### Autor: Pamela Salazar Espinoza\n",
    "\n",
    "Este cuaderno corresponde al proyecto del curso de reconocimiento de patrones del TEC. El reconocimiento de voz o reconocimiento del habla es una rama de la inteligencia artificial cuya finalidad es posibilitar la comunicación entre humanos y sistemas informáticos. Un sistema de reconocimiento de voz tiene la capacidad de detectar y entender las palabras que un ser humano emite de forma natural. En un esfuerzo por entrenar estos sistemas se han creado diferentes bases de datos en distintos idiomas, con diferentes de acentos por ejemplo la enconteada en: \n",
    "\n",
    "https://commonvoice.mozilla.org/es/datasets\n",
    "\n",
    "El objetivo de este proyecto es entrenar una red neuronal para reconocer algunas palabras dichas utilizando el acento costarricense. Para ello se uso los siguientes audios:\n",
    "\n",
    "https://www.youtube.com/watch?v=SipemIJjg-E\n",
    "\n",
    "Para recortar el audio en palabras se uso la herramienta:\n",
    "\n",
    "https://mp3cut.net/es/"
   ]
  },
  {
   "cell_type": "markdown",
   "metadata": {},
   "source": [
    "### 1. Limpieza de datos"
   ]
  },
  {
   "cell_type": "code",
   "execution_count": 1,
   "metadata": {},
   "outputs": [],
   "source": [
    "import pandas as pd\n",
    "import os\n"
   ]
  },
  {
   "cell_type": "markdown",
   "metadata": {},
   "source": [
    "1. Crear una tabla de los archivos con sus respectivas carpetas"
   ]
  },
  {
   "cell_type": "code",
   "execution_count": 2,
   "metadata": {},
   "outputs": [
    {
     "data": {
      "text/html": [
       "<div>\n",
       "<style scoped>\n",
       "    .dataframe tbody tr th:only-of-type {\n",
       "        vertical-align: middle;\n",
       "    }\n",
       "\n",
       "    .dataframe tbody tr th {\n",
       "        vertical-align: top;\n",
       "    }\n",
       "\n",
       "    .dataframe thead th {\n",
       "        text-align: right;\n",
       "    }\n",
       "</style>\n",
       "<table border=\"1\" class=\"dataframe\">\n",
       "  <thead>\n",
       "    <tr style=\"text-align: right;\">\n",
       "      <th></th>\n",
       "      <th>Carpeta</th>\n",
       "      <th>Archivos</th>\n",
       "    </tr>\n",
       "  </thead>\n",
       "  <tbody>\n",
       "    <tr>\n",
       "      <th>0</th>\n",
       "      <td>acompanarlo</td>\n",
       "      <td>acompanarlo1.m4a</td>\n",
       "    </tr>\n",
       "    <tr>\n",
       "      <th>1</th>\n",
       "      <td>actividades</td>\n",
       "      <td>audio1 (mp3cut.net) - 2024-03-28T130319.780.m4a</td>\n",
       "    </tr>\n",
       "    <tr>\n",
       "      <th>2</th>\n",
       "      <td>adecuada</td>\n",
       "      <td>adecuada1.m4a</td>\n",
       "    </tr>\n",
       "    <tr>\n",
       "      <th>3</th>\n",
       "      <td>ambiente</td>\n",
       "      <td>audio1 (mp3cut.net) (76).m4a</td>\n",
       "    </tr>\n",
       "    <tr>\n",
       "      <th>4</th>\n",
       "      <td>aqui</td>\n",
       "      <td>aqui1.m4a</td>\n",
       "    </tr>\n",
       "    <tr>\n",
       "      <th>...</th>\n",
       "      <td>...</td>\n",
       "      <td>...</td>\n",
       "    </tr>\n",
       "    <tr>\n",
       "      <th>351</th>\n",
       "      <td>vecinos</td>\n",
       "      <td>audio1 (mp3cut.net) (93).m4a</td>\n",
       "    </tr>\n",
       "    <tr>\n",
       "      <th>352</th>\n",
       "      <td>vecinos</td>\n",
       "      <td>audio1 (mp3cut.net) - 2024-03-28T130351.337.m4a</td>\n",
       "    </tr>\n",
       "    <tr>\n",
       "      <th>353</th>\n",
       "      <td>vehiculos</td>\n",
       "      <td>audio1 (mp3cut.net) (89).m4a</td>\n",
       "    </tr>\n",
       "    <tr>\n",
       "      <th>354</th>\n",
       "      <td>vida</td>\n",
       "      <td>vida1.m4a</td>\n",
       "    </tr>\n",
       "    <tr>\n",
       "      <th>355</th>\n",
       "      <td>vida</td>\n",
       "      <td>vida2.m4a</td>\n",
       "    </tr>\n",
       "  </tbody>\n",
       "</table>\n",
       "<p>356 rows × 2 columns</p>\n",
       "</div>"
      ],
      "text/plain": [
       "         Carpeta                                         Archivos\n",
       "0    acompanarlo                                 acompanarlo1.m4a\n",
       "1    actividades  audio1 (mp3cut.net) - 2024-03-28T130319.780.m4a\n",
       "2       adecuada                                    adecuada1.m4a\n",
       "3       ambiente                     audio1 (mp3cut.net) (76).m4a\n",
       "4           aqui                                        aqui1.m4a\n",
       "..           ...                                              ...\n",
       "351      vecinos                     audio1 (mp3cut.net) (93).m4a\n",
       "352      vecinos  audio1 (mp3cut.net) - 2024-03-28T130351.337.m4a\n",
       "353    vehiculos                     audio1 (mp3cut.net) (89).m4a\n",
       "354         vida                                        vida1.m4a\n",
       "355         vida                                        vida2.m4a\n",
       "\n",
       "[356 rows x 2 columns]"
      ]
     },
     "execution_count": 2,
     "metadata": {},
     "output_type": "execute_result"
    }
   ],
   "source": [
    "contenido = os.listdir('.\\dataset\\palabras')\n",
    "archvos_list = []\n",
    "carpeta_list = []\n",
    "carpeta_list1 = []\n",
    "for carpeta in contenido:\n",
    "    archivos = os.listdir('.\\dataset\\palabras\\\\' + carpeta)\n",
    "    carpeta_list1.append(carpeta)\n",
    "    for archivo in archivos:\n",
    "        archvos_list.append(archivo)\n",
    "        carpeta_list.append(carpeta)\n",
    "\n",
    "df = pd.DataFrame()\n",
    "df['Carpeta']  = carpeta_list\n",
    "df['Archivos'] = archvos_list \n",
    "df"
   ]
  },
  {
   "cell_type": "markdown",
   "metadata": {},
   "source": [
    "2. Clasificar las muestras."
   ]
  },
  {
   "cell_type": "code",
   "execution_count": 6,
   "metadata": {},
   "outputs": [
    {
     "data": {
      "text/html": [
       "<div>\n",
       "<style scoped>\n",
       "    .dataframe tbody tr th:only-of-type {\n",
       "        vertical-align: middle;\n",
       "    }\n",
       "\n",
       "    .dataframe tbody tr th {\n",
       "        vertical-align: top;\n",
       "    }\n",
       "\n",
       "    .dataframe thead th {\n",
       "        text-align: right;\n",
       "    }\n",
       "</style>\n",
       "<table border=\"1\" class=\"dataframe\">\n",
       "  <thead>\n",
       "    <tr style=\"text-align: right;\">\n",
       "      <th></th>\n",
       "      <th>Carpeta</th>\n",
       "      <th>Archivos</th>\n",
       "      <th>Clase</th>\n",
       "      <th>Clase ID</th>\n",
       "    </tr>\n",
       "  </thead>\n",
       "  <tbody>\n",
       "    <tr>\n",
       "      <th>20</th>\n",
       "      <td>cancer</td>\n",
       "      <td>cancer1.m4a</td>\n",
       "      <td>cancer</td>\n",
       "      <td>0</td>\n",
       "    </tr>\n",
       "    <tr>\n",
       "      <th>21</th>\n",
       "      <td>cancer</td>\n",
       "      <td>cancer10.m4a</td>\n",
       "      <td>cancer</td>\n",
       "      <td>0</td>\n",
       "    </tr>\n",
       "    <tr>\n",
       "      <th>22</th>\n",
       "      <td>cancer</td>\n",
       "      <td>cancer11.m4a</td>\n",
       "      <td>cancer</td>\n",
       "      <td>0</td>\n",
       "    </tr>\n",
       "    <tr>\n",
       "      <th>23</th>\n",
       "      <td>cancer</td>\n",
       "      <td>cancer12.m4a</td>\n",
       "      <td>cancer</td>\n",
       "      <td>0</td>\n",
       "    </tr>\n",
       "    <tr>\n",
       "      <th>24</th>\n",
       "      <td>cancer</td>\n",
       "      <td>cancer13.m4a</td>\n",
       "      <td>cancer</td>\n",
       "      <td>0</td>\n",
       "    </tr>\n",
       "    <tr>\n",
       "      <th>...</th>\n",
       "      <td>...</td>\n",
       "      <td>...</td>\n",
       "      <td>...</td>\n",
       "      <td>...</td>\n",
       "    </tr>\n",
       "    <tr>\n",
       "      <th>326</th>\n",
       "      <td>tiempo</td>\n",
       "      <td>tiempo5.m4a</td>\n",
       "      <td>tiempo</td>\n",
       "      <td>1</td>\n",
       "    </tr>\n",
       "    <tr>\n",
       "      <th>327</th>\n",
       "      <td>tiempo</td>\n",
       "      <td>tiempo6.m4a</td>\n",
       "      <td>tiempo</td>\n",
       "      <td>1</td>\n",
       "    </tr>\n",
       "    <tr>\n",
       "      <th>328</th>\n",
       "      <td>tiempo</td>\n",
       "      <td>tiempo7.m4a</td>\n",
       "      <td>tiempo</td>\n",
       "      <td>1</td>\n",
       "    </tr>\n",
       "    <tr>\n",
       "      <th>329</th>\n",
       "      <td>tiempo</td>\n",
       "      <td>tiempo8.m4a</td>\n",
       "      <td>tiempo</td>\n",
       "      <td>1</td>\n",
       "    </tr>\n",
       "    <tr>\n",
       "      <th>330</th>\n",
       "      <td>tiempo</td>\n",
       "      <td>tiempo9.m4a</td>\n",
       "      <td>tiempo</td>\n",
       "      <td>1</td>\n",
       "    </tr>\n",
       "  </tbody>\n",
       "</table>\n",
       "<p>93 rows × 4 columns</p>\n",
       "</div>"
      ],
      "text/plain": [
       "    Carpeta      Archivos   Clase  Clase ID\n",
       "20   cancer   cancer1.m4a  cancer         0\n",
       "21   cancer  cancer10.m4a  cancer         0\n",
       "22   cancer  cancer11.m4a  cancer         0\n",
       "23   cancer  cancer12.m4a  cancer         0\n",
       "24   cancer  cancer13.m4a  cancer         0\n",
       "..      ...           ...     ...       ...\n",
       "326  tiempo   tiempo5.m4a  tiempo         1\n",
       "327  tiempo   tiempo6.m4a  tiempo         1\n",
       "328  tiempo   tiempo7.m4a  tiempo         1\n",
       "329  tiempo   tiempo8.m4a  tiempo         1\n",
       "330  tiempo   tiempo9.m4a  tiempo         1\n",
       "\n",
       "[93 rows x 4 columns]"
      ]
     },
     "execution_count": 6,
     "metadata": {},
     "output_type": "execute_result"
    }
   ],
   "source": [
    "clases_list = []\n",
    "clasesID_list = []\n",
    "for carpeta in df['Carpeta']:\n",
    "    if carpeta == 'cancer':\n",
    "        clase = 'cancer'\n",
    "        id = 0\n",
    "    elif carpeta == 'tiempo':\n",
    "        clase = 'tiempo'\n",
    "        id = 1\n",
    "    elif carpeta == 'diagnostico':\n",
    "        clase = 'diagnostico'\n",
    "        id = 2\n",
    "    elif carpeta == 'pacientes':\n",
    "        clase = 'pacientes'\n",
    "        id = 3\n",
    "    else:\n",
    "        clase = 'desconocido'\n",
    "        id = 4\n",
    "    clases_list.append(clase)\n",
    "    clasesID_list.append(id)\n",
    "df['Clase'] = clases_list\n",
    "df['Clase ID'] = clasesID_list\n",
    "\n",
    "df.drop(df[(df['Clase'] == 'desconocido')].index, inplace=True)\n",
    "df"
   ]
  },
  {
   "cell_type": "code",
   "execution_count": 4,
   "metadata": {},
   "outputs": [],
   "source": [
    "import matplotlib.pyplot as plt"
   ]
  },
  {
   "cell_type": "code",
   "execution_count": 7,
   "metadata": {},
   "outputs": [
    {
     "data": {
      "image/png": "[encoded data removed]",
      "text/plain": [
       "<Figure size 648x288 with 1 Axes>"
      ]
     },
     "metadata": {
      "needs_background": "light"
     },
     "output_type": "display_data"
    }
   ],
   "source": [
    "freq = df.groupby(['Clase']).count() \n",
    "freq['Archivos'].plot(kind = 'bar', \n",
    "             title = 'Training Label Distribution',\n",
    "             stacked = 'True',          # Muestra las barras apiladas\n",
    "             alpha = 1,               # nivel de transparencia\n",
    "             width = 0.9,               # Grosor de las barras para dejar espacio entre ellas\n",
    "             figsize=(9,4));            # Cambiamos el tamaño de la figura"
   ]
  },
  {
   "cell_type": "markdown",
   "metadata": {},
   "source": [
    "3. Crear espectogramas\n",
    "Nota, para crear los espectogramas hay que cambiar el formato del archivo a mp3."
   ]
  },
  {
   "cell_type": "code",
   "execution_count": 14,
   "metadata": {},
   "outputs": [],
   "source": [
    "import librosa\n",
    "import numpy as np\n",
    "import pickle"
   ]
  },
  {
   "cell_type": "code",
   "execution_count": 15,
   "metadata": {},
   "outputs": [],
   "source": [
    "def spectogram (audio_file):\n",
    "    fs = 16000\n",
    "    y, sr = librosa.load(audio_file, sr = 16000)\n",
    "    if len(y) < fs:\n",
    "       y = np.concatenate((y,np.zeros((fs-len(y)),dtype='int')))\n",
    "    elif len(y) > fs:\n",
    "        y = y[:fs]\n",
    "    S = librosa.feature.melspectrogram(y=y, sr=fs, n_mels=40,n_fft =  25*fs//1000, win_length = 25*fs//1000, hop_length = 10*fs//1000, center=True,\n",
    "        power=2)\n",
    "    S_dB = librosa.power_to_db(S, ref=np.max)\n",
    "    return S_dB"
   ]
  },
  {
   "cell_type": "code",
   "execution_count": 18,
   "metadata": {},
   "outputs": [],
   "source": [
    "audio_file = 'prueba.mp3'"
   ]
  },
  {
   "cell_type": "code",
   "execution_count": 22,
   "metadata": {},
   "outputs": [],
   "source": [
    "S_dB = spectogram (audio_file)   "
   ]
  },
  {
   "cell_type": "code",
   "execution_count": 23,
   "metadata": {},
   "outputs": [
    {
     "data": {
      "image/png": "[encoded data removed]",
      "text/plain": [
       "<Figure size 432x288 with 2 Axes>"
      ]
     },
     "metadata": {
      "needs_background": "light"
     },
     "output_type": "display_data"
    }
   ],
   "source": [
    "fig, ax = plt.subplots()\n",
    "img = librosa.display.specshow(S_dB, sr=16000,x_axis='time', y_axis='hz')\n",
    "fig.colorbar(img, ax=ax, format='%+2.0f dB')\n",
    "ax.set(title='Mel-frequency spectrogram')\n",
    "plt.show()"
   ]
  }
 ],
 "metadata": {
  "kernelspec": {
   "display_name": "Python 3",
   "language": "python",
   "name": "python3"
  },
  "language_info": {
   "codemirror_mode": {
    "name": "ipython",
    "version": 3
   },
   "file_extension": ".py",
   "mimetype": "text/x-python",
   "name": "python",
   "nbconvert_exporter": "python",
   "pygments_lexer": "ipython3",
   "version": "3.9.6"
  }
 },
 "nbformat": 4,
 "nbformat_minor": 2
}
