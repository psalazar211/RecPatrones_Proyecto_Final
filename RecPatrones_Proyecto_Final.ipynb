{
 "cells": [
  {
   "cell_type": "markdown",
   "metadata": {},
   "source": [
    "# Proyecto Final del curso de Reconocimiento de Patrones\n",
    "### Maestría en Electrónica del TEC\n",
    "### Autor: Pamela Salazar Espinoza\n",
    "\n",
    "Este cuaderno corresponde al proyecto del curso de reconocimiento de patrones del TEC. El reconocimiento de voz o reconocimiento del habla es una rama de la inteligencia artificial cuya finalidad es posibilitar la comunicación entre humanos y sistemas informáticos. Un sistema de reconocimiento de voz tiene la capacidad de detectar y entender las palabras que un ser humano emite de forma natural. En un esfuerzo por entrenar estos sistemas se han creado diferentes bases de datos en distintos idiomas, con diferentes de acentos por ejemplo la enconteada en: \n",
    "\n",
    "https://commonvoice.mozilla.org/es/datasets\n",
    "\n",
    "El objetivo de este proyecto es entrenar una red neuronal para reconocer algunas palabras dichas utilizando el acento costarricense. Para ello se uso los siguientes audios:\n",
    "\n",
    "https://www.youtube.com/watch?v=SipemIJjg-E\n",
    "\n",
    "Para recortar el audio en palabras se uso la herramienta:\n",
    "\n",
    "https://mp3cut.net/es/"
   ]
  },
  {
   "cell_type": "markdown",
   "metadata": {},
   "source": [
    "### 1. Limpieza de datos"
   ]
  },
  {
   "cell_type": "code",
   "execution_count": 1,
   "metadata": {},
   "outputs": [],
   "source": [
    "import pandas as pd\n",
    "import os\n"
   ]
  },
  {
   "cell_type": "markdown",
   "metadata": {},
   "source": [
    "1. Crear una tabla de los archivos con sus respectivas carpetas"
   ]
  },
  {
   "cell_type": "code",
   "execution_count": 2,
   "metadata": {},
   "outputs": [
    {
     "data": {
      "text/html": [
       "<div>\n",
       "<style scoped>\n",
       "    .dataframe tbody tr th:only-of-type {\n",
       "        vertical-align: middle;\n",
       "    }\n",
       "\n",
       "    .dataframe tbody tr th {\n",
       "        vertical-align: top;\n",
       "    }\n",
       "\n",
       "    .dataframe thead th {\n",
       "        text-align: right;\n",
       "    }\n",
       "</style>\n",
       "<table border=\"1\" class=\"dataframe\">\n",
       "  <thead>\n",
       "    <tr style=\"text-align: right;\">\n",
       "      <th></th>\n",
       "      <th>Carpeta</th>\n",
       "      <th>Archivos</th>\n",
       "    </tr>\n",
       "  </thead>\n",
       "  <tbody>\n",
       "    <tr>\n",
       "      <th>0</th>\n",
       "      <td>actividades</td>\n",
       "      <td>audio1 (mp3cut.net) - 2024-03-28T130319.780.m4a</td>\n",
       "    </tr>\n",
       "    <tr>\n",
       "      <th>1</th>\n",
       "      <td>ambiente</td>\n",
       "      <td>audio1 (mp3cut.net) (76).m4a</td>\n",
       "    </tr>\n",
       "    <tr>\n",
       "      <th>2</th>\n",
       "      <td>asociacion</td>\n",
       "      <td>audio1 (mp3cut.net) (14).m4a</td>\n",
       "    </tr>\n",
       "    <tr>\n",
       "      <th>3</th>\n",
       "      <td>asociacion</td>\n",
       "      <td>audio1 (mp3cut.net) (15).m4a</td>\n",
       "    </tr>\n",
       "    <tr>\n",
       "      <th>4</th>\n",
       "      <td>asociacion</td>\n",
       "      <td>audio1 (mp3cut.net) (82).m4a</td>\n",
       "    </tr>\n",
       "    <tr>\n",
       "      <th>...</th>\n",
       "      <td>...</td>\n",
       "      <td>...</td>\n",
       "    </tr>\n",
       "    <tr>\n",
       "      <th>109</th>\n",
       "      <td>turista</td>\n",
       "      <td>audio1 (mp3cut.net) (85).m4a</td>\n",
       "    </tr>\n",
       "    <tr>\n",
       "      <th>110</th>\n",
       "      <td>turista</td>\n",
       "      <td>audio1 (mp3cut.net) (86).m4a</td>\n",
       "    </tr>\n",
       "    <tr>\n",
       "      <th>111</th>\n",
       "      <td>vecinos</td>\n",
       "      <td>audio1 (mp3cut.net) (93).m4a</td>\n",
       "    </tr>\n",
       "    <tr>\n",
       "      <th>112</th>\n",
       "      <td>vecinos</td>\n",
       "      <td>audio1 (mp3cut.net) - 2024-03-28T130351.337.m4a</td>\n",
       "    </tr>\n",
       "    <tr>\n",
       "      <th>113</th>\n",
       "      <td>vehiculos</td>\n",
       "      <td>audio1 (mp3cut.net) (89).m4a</td>\n",
       "    </tr>\n",
       "  </tbody>\n",
       "</table>\n",
       "<p>114 rows × 2 columns</p>\n",
       "</div>"
      ],
      "text/plain": [
       "         Carpeta                                         Archivos\n",
       "0    actividades  audio1 (mp3cut.net) - 2024-03-28T130319.780.m4a\n",
       "1       ambiente                     audio1 (mp3cut.net) (76).m4a\n",
       "2     asociacion                     audio1 (mp3cut.net) (14).m4a\n",
       "3     asociacion                     audio1 (mp3cut.net) (15).m4a\n",
       "4     asociacion                     audio1 (mp3cut.net) (82).m4a\n",
       "..           ...                                              ...\n",
       "109      turista                     audio1 (mp3cut.net) (85).m4a\n",
       "110      turista                     audio1 (mp3cut.net) (86).m4a\n",
       "111      vecinos                     audio1 (mp3cut.net) (93).m4a\n",
       "112      vecinos  audio1 (mp3cut.net) - 2024-03-28T130351.337.m4a\n",
       "113    vehiculos                     audio1 (mp3cut.net) (89).m4a\n",
       "\n",
       "[114 rows x 2 columns]"
      ]
     },
     "execution_count": 2,
     "metadata": {},
     "output_type": "execute_result"
    }
   ],
   "source": [
    "contenido = os.listdir('.\\dataset\\palabras')\n",
    "archvos_list = []\n",
    "carpeta_list = []\n",
    "carpeta_list1 = []\n",
    "for carpeta in contenido:\n",
    "    archivos = os.listdir('.\\dataset\\palabras\\\\' + carpeta)\n",
    "    carpeta_list1.append(carpeta)\n",
    "    for archivo in archivos:\n",
    "        archvos_list.append(archivo)\n",
    "        carpeta_list.append(carpeta)\n",
    "\n",
    "df = pd.DataFrame()\n",
    "df['Carpeta']  = carpeta_list\n",
    "df['Archivos'] = archvos_list \n",
    "df"
   ]
  },
  {
   "cell_type": "markdown",
   "metadata": {},
   "source": [
    "2. Clasificar las muestras."
   ]
  },
  {
   "cell_type": "code",
   "execution_count": 3,
   "metadata": {},
   "outputs": [
    {
     "data": {
      "text/html": [
       "<div>\n",
       "<style scoped>\n",
       "    .dataframe tbody tr th:only-of-type {\n",
       "        vertical-align: middle;\n",
       "    }\n",
       "\n",
       "    .dataframe tbody tr th {\n",
       "        vertical-align: top;\n",
       "    }\n",
       "\n",
       "    .dataframe thead th {\n",
       "        text-align: right;\n",
       "    }\n",
       "</style>\n",
       "<table border=\"1\" class=\"dataframe\">\n",
       "  <thead>\n",
       "    <tr style=\"text-align: right;\">\n",
       "      <th></th>\n",
       "      <th>Carpeta</th>\n",
       "      <th>Archivos</th>\n",
       "      <th>Clase</th>\n",
       "    </tr>\n",
       "  </thead>\n",
       "  <tbody>\n",
       "    <tr>\n",
       "      <th>0</th>\n",
       "      <td>actividades</td>\n",
       "      <td>audio1 (mp3cut.net) - 2024-03-28T130319.780.m4a</td>\n",
       "      <td>actividades</td>\n",
       "    </tr>\n",
       "    <tr>\n",
       "      <th>1</th>\n",
       "      <td>ambiente</td>\n",
       "      <td>audio1 (mp3cut.net) (76).m4a</td>\n",
       "      <td>ambiente</td>\n",
       "    </tr>\n",
       "    <tr>\n",
       "      <th>2</th>\n",
       "      <td>asociacion</td>\n",
       "      <td>audio1 (mp3cut.net) (14).m4a</td>\n",
       "      <td>asociacion</td>\n",
       "    </tr>\n",
       "    <tr>\n",
       "      <th>3</th>\n",
       "      <td>asociacion</td>\n",
       "      <td>audio1 (mp3cut.net) (15).m4a</td>\n",
       "      <td>asociacion</td>\n",
       "    </tr>\n",
       "    <tr>\n",
       "      <th>4</th>\n",
       "      <td>asociacion</td>\n",
       "      <td>audio1 (mp3cut.net) (82).m4a</td>\n",
       "      <td>asociacion</td>\n",
       "    </tr>\n",
       "    <tr>\n",
       "      <th>...</th>\n",
       "      <td>...</td>\n",
       "      <td>...</td>\n",
       "      <td>...</td>\n",
       "    </tr>\n",
       "    <tr>\n",
       "      <th>109</th>\n",
       "      <td>turista</td>\n",
       "      <td>audio1 (mp3cut.net) (85).m4a</td>\n",
       "      <td>turista</td>\n",
       "    </tr>\n",
       "    <tr>\n",
       "      <th>110</th>\n",
       "      <td>turista</td>\n",
       "      <td>audio1 (mp3cut.net) (86).m4a</td>\n",
       "      <td>turista</td>\n",
       "    </tr>\n",
       "    <tr>\n",
       "      <th>111</th>\n",
       "      <td>vecinos</td>\n",
       "      <td>audio1 (mp3cut.net) (93).m4a</td>\n",
       "      <td>vecinos</td>\n",
       "    </tr>\n",
       "    <tr>\n",
       "      <th>112</th>\n",
       "      <td>vecinos</td>\n",
       "      <td>audio1 (mp3cut.net) - 2024-03-28T130351.337.m4a</td>\n",
       "      <td>vecinos</td>\n",
       "    </tr>\n",
       "    <tr>\n",
       "      <th>113</th>\n",
       "      <td>vehiculos</td>\n",
       "      <td>audio1 (mp3cut.net) (89).m4a</td>\n",
       "      <td>vehiculos</td>\n",
       "    </tr>\n",
       "  </tbody>\n",
       "</table>\n",
       "<p>114 rows × 3 columns</p>\n",
       "</div>"
      ],
      "text/plain": [
       "         Carpeta                                         Archivos        Clase\n",
       "0    actividades  audio1 (mp3cut.net) - 2024-03-28T130319.780.m4a  actividades\n",
       "1       ambiente                     audio1 (mp3cut.net) (76).m4a     ambiente\n",
       "2     asociacion                     audio1 (mp3cut.net) (14).m4a   asociacion\n",
       "3     asociacion                     audio1 (mp3cut.net) (15).m4a   asociacion\n",
       "4     asociacion                     audio1 (mp3cut.net) (82).m4a   asociacion\n",
       "..           ...                                              ...          ...\n",
       "109      turista                     audio1 (mp3cut.net) (85).m4a      turista\n",
       "110      turista                     audio1 (mp3cut.net) (86).m4a      turista\n",
       "111      vecinos                     audio1 (mp3cut.net) (93).m4a      vecinos\n",
       "112      vecinos  audio1 (mp3cut.net) - 2024-03-28T130351.337.m4a      vecinos\n",
       "113    vehiculos                     audio1 (mp3cut.net) (89).m4a    vehiculos\n",
       "\n",
       "[114 rows x 3 columns]"
      ]
     },
     "execution_count": 3,
     "metadata": {},
     "output_type": "execute_result"
    }
   ],
   "source": [
    "df['Clase'] = carpeta_list\n",
    "df"
   ]
  },
  {
   "cell_type": "code",
   "execution_count": 5,
   "metadata": {},
   "outputs": [],
   "source": [
    "import matplotlib.pyplot as plt"
   ]
  },
  {
   "cell_type": "code",
   "execution_count": 21,
   "metadata": {},
   "outputs": [
    {
     "data": {
      "image/png": "[encoded data removed]",
      "text/plain": [
       "<Figure size 648x288 with 1 Axes>"
      ]
     },
     "metadata": {
      "needs_background": "light"
     },
     "output_type": "display_data"
    }
   ],
   "source": [
    "freq = df.groupby(['Clase']).count() \n",
    "freq['Archivos'].plot(kind = 'bar', \n",
    "             title = 'Training Label Distribution',\n",
    "             stacked = 'True',          # Muestra las barras apiladas\n",
    "             alpha = 1,               # nivel de transparencia\n",
    "             width = 0.9,               # Grosor de las barras para dejar espacio entre ellas\n",
    "             figsize=(9,4));            # Cambiamos el tamaño de la figura"
   ]
  }
 ],
 "metadata": {
  "kernelspec": {
   "display_name": "Python 3",
   "language": "python",
   "name": "python3"
  },
  "language_info": {
   "codemirror_mode": {
    "name": "ipython",
    "version": 3
   },
   "file_extension": ".py",
   "mimetype": "text/x-python",
   "name": "python",
   "nbconvert_exporter": "python",
   "pygments_lexer": "ipython3",
   "version": "3.9.6"
  }
 },
 "nbformat": 4,
 "nbformat_minor": 2
}
